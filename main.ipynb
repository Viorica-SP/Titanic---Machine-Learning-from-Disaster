{
 "cells": [
  {
   "cell_type": "code",
   "execution_count": 1,
   "metadata": {},
   "outputs": [],
   "source": [
    "\n",
    "import pandas as pd\n",
    "import numpy as np\n",
    "import seaborn as sns\n",
    "import matplotlib.pyplot as plt"
   ]
  },
  {
   "cell_type": "markdown",
   "metadata": {},
   "source": [
    "# Reading data\n",
    "<font size=\"4\">To read the data, we use the read_csv command from the Pandas library.</font>"
   ]
  },
  {
   "cell_type": "code",
   "execution_count": 2,
   "metadata": {},
   "outputs": [],
   "source": [
    "\n",
    "\n",
    "training_data = pd.read_csv('train.csv')\n",
    "test_data = pd.read_csv('test.csv')\n",
    "\n"
   ]
  },
  {
   "cell_type": "markdown",
   "metadata": {},
   "source": [
    "# Data Analysis\n",
    "<font size=\"4\">To examine and analyze the shape of the data, their distribution, and their impact on the survival rate, we used plotting functions from the Seaborn and Matplotlib libraries. To visualize the nature of the data, we used the info() and describe() functions from the Pandas library.</font>"
   ]
  },
  {
   "cell_type": "code",
   "execution_count": 3,
   "metadata": {},
   "outputs": [
    {
     "name": "stdout",
     "output_type": "stream",
     "text": [
      "<class 'pandas.core.frame.DataFrame'>\n",
      "RangeIndex: 891 entries, 0 to 890\n",
      "Data columns (total 12 columns):\n",
      " #   Column       Non-Null Count  Dtype  \n",
      "---  ------       --------------  -----  \n",
      " 0   PassengerId  891 non-null    int64  \n",
      " 1   Survived     891 non-null    int64  \n",
      " 2   Pclass       891 non-null    int64  \n",
      " 3   Name         891 non-null    object \n",
      " 4   Sex          891 non-null    object \n",
      " 5   Age          714 non-null    float64\n",
      " 6   SibSp        891 non-null    int64  \n",
      " 7   Parch        891 non-null    int64  \n",
      " 8   Ticket       891 non-null    object \n",
      " 9   Fare         891 non-null    float64\n",
      " 10  Cabin        204 non-null    object \n",
      " 11  Embarked     889 non-null    object \n",
      "dtypes: float64(2), int64(5), object(5)\n",
      "memory usage: 83.7+ KB\n"
     ]
    }
   ],
   "source": [
    "training_data.info()"
   ]
  },
  {
   "cell_type": "code",
   "execution_count": 4,
   "metadata": {},
   "outputs": [
    {
     "data": {
      "text/html": [
       "<div>\n",
       "<style scoped>\n",
       "    .dataframe tbody tr th:only-of-type {\n",
       "        vertical-align: middle;\n",
       "    }\n",
       "\n",
       "    .dataframe tbody tr th {\n",
       "        vertical-align: top;\n",
       "    }\n",
       "\n",
       "    .dataframe thead th {\n",
       "        text-align: right;\n",
       "    }\n",
       "</style>\n",
       "<table border=\"1\" class=\"dataframe\">\n",
       "  <thead>\n",
       "    <tr style=\"text-align: right;\">\n",
       "      <th></th>\n",
       "      <th>PassengerId</th>\n",
       "      <th>Survived</th>\n",
       "      <th>Pclass</th>\n",
       "      <th>Age</th>\n",
       "      <th>SibSp</th>\n",
       "      <th>Parch</th>\n",
       "      <th>Fare</th>\n",
       "    </tr>\n",
       "  </thead>\n",
       "  <tbody>\n",
       "    <tr>\n",
       "      <th>count</th>\n",
       "      <td>891.000000</td>\n",
       "      <td>891.000000</td>\n",
       "      <td>891.000000</td>\n",
       "      <td>714.000000</td>\n",
       "      <td>891.000000</td>\n",
       "      <td>891.000000</td>\n",
       "      <td>891.000000</td>\n",
       "    </tr>\n",
       "    <tr>\n",
       "      <th>mean</th>\n",
       "      <td>446.000000</td>\n",
       "      <td>0.383838</td>\n",
       "      <td>2.308642</td>\n",
       "      <td>29.699118</td>\n",
       "      <td>0.523008</td>\n",
       "      <td>0.381594</td>\n",
       "      <td>32.204208</td>\n",
       "    </tr>\n",
       "    <tr>\n",
       "      <th>std</th>\n",
       "      <td>257.353842</td>\n",
       "      <td>0.486592</td>\n",
       "      <td>0.836071</td>\n",
       "      <td>14.526497</td>\n",
       "      <td>1.102743</td>\n",
       "      <td>0.806057</td>\n",
       "      <td>49.693429</td>\n",
       "    </tr>\n",
       "    <tr>\n",
       "      <th>min</th>\n",
       "      <td>1.000000</td>\n",
       "      <td>0.000000</td>\n",
       "      <td>1.000000</td>\n",
       "      <td>0.420000</td>\n",
       "      <td>0.000000</td>\n",
       "      <td>0.000000</td>\n",
       "      <td>0.000000</td>\n",
       "    </tr>\n",
       "    <tr>\n",
       "      <th>25%</th>\n",
       "      <td>223.500000</td>\n",
       "      <td>0.000000</td>\n",
       "      <td>2.000000</td>\n",
       "      <td>20.125000</td>\n",
       "      <td>0.000000</td>\n",
       "      <td>0.000000</td>\n",
       "      <td>7.910400</td>\n",
       "    </tr>\n",
       "    <tr>\n",
       "      <th>50%</th>\n",
       "      <td>446.000000</td>\n",
       "      <td>0.000000</td>\n",
       "      <td>3.000000</td>\n",
       "      <td>28.000000</td>\n",
       "      <td>0.000000</td>\n",
       "      <td>0.000000</td>\n",
       "      <td>14.454200</td>\n",
       "    </tr>\n",
       "    <tr>\n",
       "      <th>75%</th>\n",
       "      <td>668.500000</td>\n",
       "      <td>1.000000</td>\n",
       "      <td>3.000000</td>\n",
       "      <td>38.000000</td>\n",
       "      <td>1.000000</td>\n",
       "      <td>0.000000</td>\n",
       "      <td>31.000000</td>\n",
       "    </tr>\n",
       "    <tr>\n",
       "      <th>max</th>\n",
       "      <td>891.000000</td>\n",
       "      <td>1.000000</td>\n",
       "      <td>3.000000</td>\n",
       "      <td>80.000000</td>\n",
       "      <td>8.000000</td>\n",
       "      <td>6.000000</td>\n",
       "      <td>512.329200</td>\n",
       "    </tr>\n",
       "  </tbody>\n",
       "</table>\n",
       "</div>"
      ],
      "text/plain": [
       "       PassengerId    Survived      Pclass         Age       SibSp  \\\n",
       "count   891.000000  891.000000  891.000000  714.000000  891.000000   \n",
       "mean    446.000000    0.383838    2.308642   29.699118    0.523008   \n",
       "std     257.353842    0.486592    0.836071   14.526497    1.102743   \n",
       "min       1.000000    0.000000    1.000000    0.420000    0.000000   \n",
       "25%     223.500000    0.000000    2.000000   20.125000    0.000000   \n",
       "50%     446.000000    0.000000    3.000000   28.000000    0.000000   \n",
       "75%     668.500000    1.000000    3.000000   38.000000    1.000000   \n",
       "max     891.000000    1.000000    3.000000   80.000000    8.000000   \n",
       "\n",
       "            Parch        Fare  \n",
       "count  891.000000  891.000000  \n",
       "mean     0.381594   32.204208  \n",
       "std      0.806057   49.693429  \n",
       "min      0.000000    0.000000  \n",
       "25%      0.000000    7.910400  \n",
       "50%      0.000000   14.454200  \n",
       "75%      0.000000   31.000000  \n",
       "max      6.000000  512.329200  "
      ]
     },
     "execution_count": 4,
     "metadata": {},
     "output_type": "execute_result"
    }
   ],
   "source": [
    "training_data.describe()"
   ]
  },
  {
   "cell_type": "code",
   "execution_count": 5,
   "metadata": {},
   "outputs": [
    {
     "name": "stdout",
     "output_type": "stream",
     "text": [
      "<class 'pandas.core.frame.DataFrame'>\n",
      "RangeIndex: 418 entries, 0 to 417\n",
      "Data columns (total 11 columns):\n",
      " #   Column       Non-Null Count  Dtype  \n",
      "---  ------       --------------  -----  \n",
      " 0   PassengerId  418 non-null    int64  \n",
      " 1   Pclass       418 non-null    int64  \n",
      " 2   Name         418 non-null    object \n",
      " 3   Sex          418 non-null    object \n",
      " 4   Age          332 non-null    float64\n",
      " 5   SibSp        418 non-null    int64  \n",
      " 6   Parch        418 non-null    int64  \n",
      " 7   Ticket       418 non-null    object \n",
      " 8   Fare         417 non-null    float64\n",
      " 9   Cabin        91 non-null     object \n",
      " 10  Embarked     418 non-null    object \n",
      "dtypes: float64(2), int64(4), object(5)\n",
      "memory usage: 36.1+ KB\n"
     ]
    }
   ],
   "source": [
    "test_data.info()"
   ]
  },
  {
   "cell_type": "code",
   "execution_count": 6,
   "metadata": {},
   "outputs": [
    {
     "name": "stdout",
     "output_type": "stream",
     "text": [
      "The percentage of passengers who survived: 38.38%\n",
      "The percentage of passengers who perished: 61.62%\n"
     ]
    }
   ],
   "source": [
    "#We check the distribution of 0/1 values in the 'Survived' column for the training dataset.\n",
    "number_of_survivors = len(training_data.loc[training_data['Survived'] == 1])\n",
    "number_of_deceased = len(training_data.loc[training_data['Survived'] == 0])\n",
    "print(\"The percentage of passengers who survived: {0:.2f}%\".format(number_of_survivors/len(training_data.index)*100))\n",
    "print(\"The percentage of passengers who perished: {0:.2f}%\".format(number_of_deceased/len(training_data.index)*100))"
   ]
  },
  {
   "cell_type": "markdown",
   "metadata": {},
   "source": [
    "<font size=\"3\">From the output of the info function, I observe that there are 2 missing values in the 'Embarked' column, 177 missing values in the 'Age' column, and 687 missing values in the 'Cabin' column. I will address these cases when I begin to manipulate the data. For now, I will plot graphs for each column individually to identify any correlations between the data and the survival rate. </font>"
   ]
  },
  {
   "cell_type": "markdown",
   "metadata": {},
   "source": [
    "# Passenger class\n",
    "<font size=\"3\">We observe that passengers in the first and second classes have a significantly higher chance of survival compared to those in the third class. This could be partly due to the cabin allocation, as cabins in the third class are located on the lower decks.</font>"
   ]
  },
  {
   "cell_type": "code",
   "execution_count": 7,
   "metadata": {},
   "outputs": [
    {
     "name": "stderr",
     "output_type": "stream",
     "text": [
      "C:\\Users\\danut\\AppData\\Local\\Temp\\ipykernel_14484\\390655143.py:1: FutureWarning: \n",
      "\n",
      "Passing `palette` without assigning `hue` is deprecated and will be removed in v0.14.0. Assign the `x` variable to `hue` and set `legend=False` for the same effect.\n",
      "\n",
      "  sns.barplot(x='Pclass', y='Survived', data=training_data,palette=\"Blues\")\n"
     ]
    },
    {
     "data": {
      "image/png": "[encoded data removed]",
      "text/plain": [
       "<Figure size 640x480 with 1 Axes>"
      ]
     },
     "metadata": {},
     "output_type": "display_data"
    }
   ],
   "source": [
    "sns.barplot(x='Pclass', y='Survived', data=training_data,palette=\"Blues\")\n",
    "plt.show()"
   ]
  },
  {
   "cell_type": "markdown",
   "metadata": {},
   "source": [
    "# Passenger gender\n",
    "<font size=\"3\">From the graph, we observe the relevance of passenger gender with respect to the survival rate, with females having a significantly higher survival rate.</font>"
   ]
  },
  {
   "cell_type": "code",
   "execution_count": 8,
   "metadata": {},
   "outputs": [
    {
     "name": "stderr",
     "output_type": "stream",
     "text": [
      "C:\\Users\\danut\\AppData\\Local\\Temp\\ipykernel_14484\\897416352.py:1: FutureWarning: \n",
      "\n",
      "Passing `palette` without assigning `hue` is deprecated and will be removed in v0.14.0. Assign the `x` variable to `hue` and set `legend=False` for the same effect.\n",
      "\n",
      "  sns.barplot(x='Sex', y='Survived', data=training_data,palette=\"Blues\")\n"
     ]
    },
    {
     "data": {
      "image/png": "[encoded data removed]",
      "text/plain": [
       "<Figure size 640x480 with 1 Axes>"
      ]
     },
     "metadata": {},
     "output_type": "display_data"
    }
   ],
   "source": [
    "sns.barplot(x='Sex', y='Survived', data=training_data,palette=\"Blues\")\n",
    "plt.show()"
   ]
  },
  {
   "cell_type": "code",
   "execution_count": 9,
   "metadata": {},
   "outputs": [
    {
     "data": {
      "text/plain": [
       "Sex\n",
       "male      577\n",
       "female    314\n",
       "Name: count, dtype: int64"
      ]
     },
     "execution_count": 9,
     "metadata": {},
     "output_type": "execute_result"
    }
   ],
   "source": [
    "training_data[\"Sex\"].value_counts()"
   ]
  },
  {
   "cell_type": "markdown",
   "metadata": {},
   "source": [
    "# Age\n",
    "<font size = \"3\">We observe that men between the ages of 25 and 35 had the highest chances of survival, as well as those between 0 and 5 years old. For women, the age groups between 20 and 30 and between 35 and 50 had lower chances of survival. Additionally, to fill in the missing values, I will generate random numbers using the mean and standard deviation.</font>"
   ]
  },
  {
   "cell_type": "code",
   "execution_count": 10,
   "metadata": {},
   "outputs": [
    {
     "data": {
      "image/png": "[encoded data removed]",
      "text/plain": [
       "<Figure size 1000x400 with 2 Axes>"
      ]
     },
     "metadata": {},
     "output_type": "display_data"
    }
   ],
   "source": [
    "survivors = 'Survivors'\n",
    "deceased = 'Deceased'\n",
    "fig, axes = plt.subplots(nrows=1, ncols=2,figsize=(10, 4))\n",
    "female = training_data[training_data['Sex']=='female']\n",
    "men = training_data[training_data['Sex']=='male']\n",
    "ax = sns.histplot(female[female['Survived']==1].Age.dropna(), bins=18, label = survivors, ax = axes[0], kde =False)\n",
    "ax = sns.histplot(female[female['Survived']==0].Age.dropna(), bins=40, label = deceased, ax = axes[0], kde =False, color = 'Pink')\n",
    "ax.legend()\n",
    "ax.set_title('Female')\n",
    "ax = sns.histplot(men[men['Survived']==1].Age.dropna(), bins=18, label = survivors, ax = axes[1], kde = False)\n",
    "ax = sns.histplot(men[men['Survived']==0].Age.dropna(), bins=40, label = deceased, ax = axes[1], kde = False, color = 'Pink')\n",
    "ax.legend()\n",
    "_ = ax.set_title('Men')\n",
    "plt.show()"
   ]
  },
  {
   "cell_type": "markdown",
   "metadata": {},
   "source": [
    "# SibSp\n",
    "<font size=\"3\">SibSp contains the number of siblings/spouses aboard the Titanic. We observe that the chances of survival increase up to a value of 2, and then decrease, indicating that a larger family size of more than 3 people tends to have lower chances of survival.</font>"
   ]
  },
  {
   "cell_type": "code",
   "execution_count": 11,
   "metadata": {},
   "outputs": [
    {
     "data": {
      "image/png": "[encoded data removed]",
      "text/plain": [
       "<Figure size 640x480 with 1 Axes>"
      ]
     },
     "metadata": {},
     "output_type": "display_data"
    }
   ],
   "source": [
    "sns.pointplot(x = \"SibSp\", y = \"Survived\", hue=\"Sex\", data=training_data, palette=\"Blues\")\n",
    "plt.show()"
   ]
  },
  {
   "cell_type": "markdown",
   "metadata": {},
   "source": [
    "# Parch\n",
    "<font size=\"3\">Parch represents the number of parents/children the person has aboard. From the graph, we observe the same trend as with the SibSp column. Therefore, we could combine these into a single column called Relatives and examine its impact.</font>"
   ]
  },
  {
   "cell_type": "code",
   "execution_count": 12,
   "metadata": {},
   "outputs": [
    {
     "data": {
      "image/png": "[encoded data removed]",
      "text/plain": [
       "<Figure size 640x480 with 1 Axes>"
      ]
     },
     "metadata": {},
     "output_type": "display_data"
    }
   ],
   "source": [
    "sns.pointplot(x = \"Parch\", y = \"Survived\", hue=\"Sex\", data=training_data,palette=\"Blues\")\n",
    "plt.show()"
   ]
  },
  {
   "cell_type": "markdown",
   "metadata": {},
   "source": [
    "# Ticket\n",
    "<font size = \"3\">In the case of the ticket number, there are too many unique values. Therefore, this column does not provide useful information for training the model, so I will omit it.</font>"
   ]
  },
  {
   "cell_type": "code",
   "execution_count": 13,
   "metadata": {},
   "outputs": [
    {
     "data": {
      "text/plain": [
       "count        891\n",
       "unique       681\n",
       "top       347082\n",
       "freq           7\n",
       "Name: Ticket, dtype: object"
      ]
     },
     "execution_count": 13,
     "metadata": {},
     "output_type": "execute_result"
    }
   ],
   "source": [
    "training_data['Ticket'].describe()"
   ]
  },
  {
   "cell_type": "markdown",
   "metadata": {},
   "source": [
    "# Fare\n",
    "<font size = \"3\">From the graph, we observe a large number of values between 0 and 50. This can be attributed to the distribution of passengers across classes: 324 passengers in first class, 284 in second class, and 709 in third class, with ticket prices reflecting this distribution. </font>"
   ]
  },
  {
   "cell_type": "code",
   "execution_count": 14,
   "metadata": {},
   "outputs": [
    {
     "data": {
      "image/png": "[encoded data removed]",
      "text/plain": [
       "<Figure size 640x480 with 1 Axes>"
      ]
     },
     "metadata": {},
     "output_type": "display_data"
    }
   ],
   "source": [
    "plt.hist(x = training_data['Fare'])\n",
    "plt.title('Fare')\n",
    "plt.show()"
   ]
  },
  {
   "cell_type": "markdown",
   "metadata": {},
   "source": [
    "# Cabin\n",
    "<font size = \"3\"> Since 77% of the data in this column is missing, I will choose to omit it. </font>"
   ]
  },
  {
   "cell_type": "code",
   "execution_count": 15,
   "metadata": {},
   "outputs": [
    {
     "name": "stdout",
     "output_type": "stream",
     "text": [
      "The percentage of missing values in the 'Cabin' column is: 77.10%\n"
     ]
    }
   ],
   "source": [
    "print(\"The percentage of missing values in the 'Cabin' column is: {0:.2f}%\".format(training_data[\"Cabin\"].isnull().sum()/len(training_data.index)*100))"
   ]
  },
  {
   "cell_type": "markdown",
   "metadata": {},
   "source": [
    "# Embarked\n",
    "<font size = \"3\">We observe that passengers who boarded in Cherbourg had higher chances of survival, while those who boarded in Southampton had the lowest chances of survival. Additionally, to address the 2 missing values, I will assume that these passengers boarded in Southampton, the most frequent value.</font>"
   ]
  },
  {
   "cell_type": "code",
   "execution_count": 16,
   "metadata": {},
   "outputs": [
    {
     "name": "stdout",
     "output_type": "stream",
     "text": [
      "The percentage of passengers boarded in Southampton who survived: 33.70%\n",
      "The percentage of passengers boarded in Cherbourg who survived: 55.36%\n",
      "The percentage of passengers boarded in Queenstown who survived: 38.96%\n"
     ]
    }
   ],
   "source": [
    "number_of_survivors_S = len(training_data[(training_data.Survived == 1) & (training_data.Embarked == 'S')].index)\n",
    "number_of_survivors_C = len(training_data[(training_data.Survived == 1) & (training_data.Embarked == 'C')].index)\n",
    "number_of_survivors_Q = len(training_data[(training_data.Survived == 1) & (training_data.Embarked == 'Q')].index)\n",
    "number_of_deceased_S = len(training_data[(training_data.Survived == 0) & (training_data.Embarked == 'S')].index)\n",
    "number_of_deceased_C = len(training_data[(training_data.Survived == 0) & (training_data.Embarked == 'C')].index)\n",
    "number_of_deceased_Q = len(training_data[(training_data.Survived == 0) & (training_data.Embarked == 'Q')].index)\n",
    "print(\"The percentage of passengers boarded in Southampton who survived: {0:.2f}%\".format(number_of_survivors_S/(number_of_survivors_S + number_of_deceased_S)*100))\n",
    "print(\"The percentage of passengers boarded in Cherbourg who survived: {0:.2f}%\".format(number_of_survivors_C/(number_of_survivors_C + number_of_deceased_C)*100))\n",
    "print(\"The percentage of passengers boarded in Queenstown who survived: {0:.2f}%\".format(number_of_survivors_Q/(number_of_survivors_Q + number_of_deceased_Q)*100))"
   ]
  },
  {
   "cell_type": "code",
   "execution_count": 17,
   "metadata": {},
   "outputs": [
    {
     "data": {
      "image/png": "[encoded data removed]",
      "text/plain": [
       "<Figure size 640x480 with 1 Axes>"
      ]
     },
     "metadata": {},
     "output_type": "display_data"
    }
   ],
   "source": [
    "sns.countplot( x='Survived', data=training_data, hue=\"Embarked\",palette=\"Blues\")\n",
    "plt.show()"
   ]
  },
  {
   "cell_type": "markdown",
   "metadata": {},
   "source": [
    "# Name\n",
    "<font size = \"3\"> We notice that we could extract the title of the person from the name, such as Mr, Mrs, etc.</font>"
   ]
  },
  {
   "cell_type": "code",
   "execution_count": 18,
   "metadata": {},
   "outputs": [
    {
     "data": {
      "text/plain": [
       "0                              Braund, Mr. Owen Harris\n",
       "1    Cumings, Mrs. John Bradley (Florence Briggs Th...\n",
       "2                               Heikkinen, Miss. Laina\n",
       "3         Futrelle, Mrs. Jacques Heath (Lily May Peel)\n",
       "4                             Allen, Mr. William Henry\n",
       "Name: Name, dtype: object"
      ]
     },
     "execution_count": 18,
     "metadata": {},
     "output_type": "execute_result"
    }
   ],
   "source": [
    "training_data.Name.head(5)"
   ]
  },
  {
   "cell_type": "markdown",
   "metadata": {},
   "source": [
    "# Data cleaning\n",
    "<font size = \"3\"> We begin by addressing the null values and omitting the 'Cabin' and 'Ticket' columns. I will apply these changes to both the training and test datasets. For the 'Embarked' column, I will fill the null values with 'S', as this is where the majority of passengers boarded. Additionally, I will convert all text values to numeric values, as certain algorithms do not support mixed data types.\n",
    "</font>"
   ]
  },
  {
   "cell_type": "code",
   "execution_count": 19,
   "metadata": {},
   "outputs": [
    {
     "name": "stderr",
     "output_type": "stream",
     "text": [
      "C:\\Users\\danut\\AppData\\Local\\Temp\\ipykernel_14484\\3867508985.py:3: FutureWarning: Downcasting behavior in `replace` is deprecated and will be removed in a future version. To retain the old behavior, explicitly call `result.infer_objects(copy=False)`. To opt-in to the future behavior, set `pd.set_option('future.no_silent_downcasting', True)`\n",
      "  training_data.replace({'male': 0, 'female': 1}, inplace=True)\n",
      "C:\\Users\\danut\\AppData\\Local\\Temp\\ipykernel_14484\\3867508985.py:6: FutureWarning: Downcasting behavior in `replace` is deprecated and will be removed in a future version. To retain the old behavior, explicitly call `result.infer_objects(copy=False)`. To opt-in to the future behavior, set `pd.set_option('future.no_silent_downcasting', True)`\n",
      "  test_data.replace({'male': 0, 'female': 1}, inplace=True)\n",
      "C:\\Users\\danut\\AppData\\Local\\Temp\\ipykernel_14484\\3867508985.py:9: FutureWarning: Downcasting behavior in `replace` is deprecated and will be removed in a future version. To retain the old behavior, explicitly call `result.infer_objects(copy=False)`. To opt-in to the future behavior, set `pd.set_option('future.no_silent_downcasting', True)`\n",
      "  training_data.replace({'S': 0, 'C': 1, 'Q': 2}, inplace=True)\n",
      "C:\\Users\\danut\\AppData\\Local\\Temp\\ipykernel_14484\\3867508985.py:12: FutureWarning: Downcasting behavior in `replace` is deprecated and will be removed in a future version. To retain the old behavior, explicitly call `result.infer_objects(copy=False)`. To opt-in to the future behavior, set `pd.set_option('future.no_silent_downcasting', True)`\n",
      "  test_data.replace({'S': 0, 'C': 1, 'Q': 2}, inplace=True)\n"
     ]
    }
   ],
   "source": [
    "training_data.Embarked = training_data.Embarked.fillna('S')\n",
    "\n",
    "training_data.replace({'male': 0, 'female': 1}, inplace=True)\n",
    "training_data = training_data.infer_objects(copy=False)\n",
    "\n",
    "test_data.replace({'male': 0, 'female': 1}, inplace=True)\n",
    "test_data = test_data.infer_objects(copy=False)\n",
    "\n",
    "training_data.replace({'S': 0, 'C': 1, 'Q': 2}, inplace=True)\n",
    "training_data = training_data.infer_objects(copy=False)\n",
    "\n",
    "test_data.replace({'S': 0, 'C': 1, 'Q': 2}, inplace=True)\n",
    "test_data = test_data.infer_objects(copy=False)"
   ]
  },
  {
   "cell_type": "code",
   "execution_count": 20,
   "metadata": {},
   "outputs": [],
   "source": [
    "training_data = training_data.drop(['Cabin'], axis=1)\n",
    "test_data = test_data.drop(['Cabin'], axis=1)\n",
    "training_data = training_data.drop(['Ticket'], axis=1)\n",
    "test_data = test_data.drop(['Ticket'], axis=1)"
   ]
  },
  {
   "cell_type": "code",
   "execution_count": 21,
   "metadata": {},
   "outputs": [],
   "source": [
    "#training_data['Fare'] = training_data['Fare'].fillna(training_data.Fare.median()).astype(int)\n",
    "training_data['Fare'] = training_data['Fare'].fillna(training_data['Fare'].median()).astype(int)\n",
    "\n",
    "\n",
    "#test_data['Fare'] = test_data['Fare'].fillna(test_data.Fare.median()).astype(int)\n",
    "test_data['Fare'] = test_data['Fare'].fillna(test_data['Fare'].median()).astype(int)\n",
    "\n",
    "#training_data['Age'] = training_data['Age'].fillna(method = 'pad').astype(int)\n",
    "training_data['Age'] = training_data['Age'].ffill().astype(int)\n",
    "\n",
    "#test_data['Age'] = test_data['Age'].fillna(method = 'pad').astype(int)\n",
    "test_data['Age'] = test_data['Age'].ffill().astype(int)"
   ]
  },
  {
   "cell_type": "code",
   "execution_count": 22,
   "metadata": {},
   "outputs": [
    {
     "name": "stdout",
     "output_type": "stream",
     "text": [
      "<class 'pandas.core.frame.DataFrame'>\n",
      "RangeIndex: 891 entries, 0 to 890\n",
      "Data columns (total 10 columns):\n",
      " #   Column       Non-Null Count  Dtype \n",
      "---  ------       --------------  ----- \n",
      " 0   PassengerId  891 non-null    int64 \n",
      " 1   Survived     891 non-null    int64 \n",
      " 2   Pclass       891 non-null    int64 \n",
      " 3   Name         891 non-null    object\n",
      " 4   Sex          891 non-null    int64 \n",
      " 5   Age          891 non-null    int64 \n",
      " 6   SibSp        891 non-null    int64 \n",
      " 7   Parch        891 non-null    int64 \n",
      " 8   Fare         891 non-null    int64 \n",
      " 9   Embarked     891 non-null    int64 \n",
      "dtypes: int64(9), object(1)\n",
      "memory usage: 69.7+ KB\n"
     ]
    }
   ],
   "source": [
    "#We check if there are any remaining null values.\n",
    "training_data.info()"
   ]
  },
  {
   "cell_type": "code",
   "execution_count": 23,
   "metadata": {},
   "outputs": [
    {
     "name": "stdout",
     "output_type": "stream",
     "text": [
      "             Survived\n",
      "PassengerId  0.005007\n",
      "Survived     1.000000\n",
      "Pclass       0.338481\n",
      "Sex          0.543351\n",
      "Age          0.065452\n",
      "SibSp        0.035322\n",
      "Parch        0.081629\n",
      "Fare         0.257482\n",
      "Embarked     0.106811\n"
     ]
    }
   ],
   "source": [
    "#training_data.corr().abs()[[\"Survived\"]]\n",
    "\n",
    "numeric_columns = training_data.select_dtypes(include=['number'])\n",
    "\n",
    "# Calculate the absolute correlation with the 'Survived' column\n",
    "correlation_matrix = numeric_columns.corr().abs()[[\"Survived\"]]\n",
    "\n",
    "# Display the result\n",
    "print(correlation_matrix)"
   ]
  },
  {
   "cell_type": "code",
   "execution_count": 24,
   "metadata": {},
   "outputs": [
    {
     "data": {
      "text/html": [
       "<style type=\"text/css\">\n",
       "#T_61dcf_row0_col0, #T_61dcf_row1_col1, #T_61dcf_row2_col2, #T_61dcf_row3_col3, #T_61dcf_row4_col4, #T_61dcf_row5_col5, #T_61dcf_row6_col6, #T_61dcf_row7_col7, #T_61dcf_row8_col8 {\n",
       "  background-color: #b40426;\n",
       "  color: #f1f1f1;\n",
       "}\n",
       "#T_61dcf_row0_col1, #T_61dcf_row0_col4 {\n",
       "  background-color: #8caffe;\n",
       "  color: #000000;\n",
       "}\n",
       "#T_61dcf_row0_col2, #T_61dcf_row6_col3, #T_61dcf_row8_col1 {\n",
       "  background-color: #aac7fd;\n",
       "  color: #000000;\n",
       "}\n",
       "#T_61dcf_row0_col3, #T_61dcf_row4_col0 {\n",
       "  background-color: #536edd;\n",
       "  color: #f1f1f1;\n",
       "}\n",
       "#T_61dcf_row0_col5 {\n",
       "  background-color: #6180e9;\n",
       "  color: #f1f1f1;\n",
       "}\n",
       "#T_61dcf_row0_col6, #T_61dcf_row1_col2 {\n",
       "  background-color: #6687ed;\n",
       "  color: #f1f1f1;\n",
       "}\n",
       "#T_61dcf_row0_col7 {\n",
       "  background-color: #b3cdfb;\n",
       "  color: #000000;\n",
       "}\n",
       "#T_61dcf_row0_col8 {\n",
       "  background-color: #485fd1;\n",
       "  color: #f1f1f1;\n",
       "}\n",
       "#T_61dcf_row1_col0 {\n",
       "  background-color: #4961d2;\n",
       "  color: #f1f1f1;\n",
       "}\n",
       "#T_61dcf_row1_col3 {\n",
       "  background-color: #f1ccb8;\n",
       "  color: #000000;\n",
       "}\n",
       "#T_61dcf_row1_col4, #T_61dcf_row1_col8 {\n",
       "  background-color: #7295f4;\n",
       "  color: #f1f1f1;\n",
       "}\n",
       "#T_61dcf_row1_col5 {\n",
       "  background-color: #6788ee;\n",
       "  color: #f1f1f1;\n",
       "}\n",
       "#T_61dcf_row1_col6 {\n",
       "  background-color: #80a3fa;\n",
       "  color: #f1f1f1;\n",
       "}\n",
       "#T_61dcf_row1_col7 {\n",
       "  background-color: #e2dad5;\n",
       "  color: #000000;\n",
       "}\n",
       "#T_61dcf_row2_col0 {\n",
       "  background-color: #4055c8;\n",
       "  color: #f1f1f1;\n",
       "}\n",
       "#T_61dcf_row2_col1, #T_61dcf_row2_col3, #T_61dcf_row2_col4, #T_61dcf_row2_col7, #T_61dcf_row4_col5, #T_61dcf_row4_col6, #T_61dcf_row5_col0, #T_61dcf_row6_col8, #T_61dcf_row7_col2 {\n",
       "  background-color: #3b4cc0;\n",
       "  color: #f1f1f1;\n",
       "}\n",
       "#T_61dcf_row2_col5 {\n",
       "  background-color: #89acfd;\n",
       "  color: #000000;\n",
       "}\n",
       "#T_61dcf_row2_col6 {\n",
       "  background-color: #6c8ff1;\n",
       "  color: #f1f1f1;\n",
       "}\n",
       "#T_61dcf_row2_col8 {\n",
       "  background-color: #5e7de7;\n",
       "  color: #f1f1f1;\n",
       "}\n",
       "#T_61dcf_row3_col0 {\n",
       "  background-color: #3e51c5;\n",
       "  color: #f1f1f1;\n",
       "}\n",
       "#T_61dcf_row3_col1 {\n",
       "  background-color: #f7ba9f;\n",
       "  color: #000000;\n",
       "}\n",
       "#T_61dcf_row3_col2 {\n",
       "  background-color: #94b6ff;\n",
       "  color: #000000;\n",
       "}\n",
       "#T_61dcf_row3_col4, #T_61dcf_row3_col8 {\n",
       "  background-color: #7597f6;\n",
       "  color: #f1f1f1;\n",
       "}\n",
       "#T_61dcf_row3_col5 {\n",
       "  background-color: #93b5fe;\n",
       "  color: #000000;\n",
       "}\n",
       "#T_61dcf_row3_col6 {\n",
       "  background-color: #b1cbfc;\n",
       "  color: #000000;\n",
       "}\n",
       "#T_61dcf_row3_col7 {\n",
       "  background-color: #d6dce4;\n",
       "  color: #000000;\n",
       "}\n",
       "#T_61dcf_row4_col1 {\n",
       "  background-color: #7da0f9;\n",
       "  color: #f1f1f1;\n",
       "}\n",
       "#T_61dcf_row4_col2 {\n",
       "  background-color: #6f92f3;\n",
       "  color: #f1f1f1;\n",
       "}\n",
       "#T_61dcf_row4_col3, #T_61dcf_row5_col4, #T_61dcf_row7_col0 {\n",
       "  background-color: #4e68d8;\n",
       "  color: #f1f1f1;\n",
       "}\n",
       "#T_61dcf_row4_col7, #T_61dcf_row5_col2 {\n",
       "  background-color: #c3d5f4;\n",
       "  color: #000000;\n",
       "}\n",
       "#T_61dcf_row4_col8, #T_61dcf_row6_col4 {\n",
       "  background-color: #5875e1;\n",
       "  color: #f1f1f1;\n",
       "}\n",
       "#T_61dcf_row5_col1 {\n",
       "  background-color: #84a7fc;\n",
       "  color: #f1f1f1;\n",
       "}\n",
       "#T_61dcf_row5_col3 {\n",
       "  background-color: #81a4fb;\n",
       "  color: #f1f1f1;\n",
       "}\n",
       "#T_61dcf_row5_col6 {\n",
       "  background-color: #dcdddd;\n",
       "  color: #000000;\n",
       "}\n",
       "#T_61dcf_row5_col7 {\n",
       "  background-color: #d2dbe8;\n",
       "  color: #000000;\n",
       "}\n",
       "#T_61dcf_row5_col8 {\n",
       "  background-color: #3f53c6;\n",
       "  color: #f1f1f1;\n",
       "}\n",
       "#T_61dcf_row6_col0 {\n",
       "  background-color: #4a63d3;\n",
       "  color: #f1f1f1;\n",
       "}\n",
       "#T_61dcf_row6_col1 {\n",
       "  background-color: #a3c2fe;\n",
       "  color: #000000;\n",
       "}\n",
       "#T_61dcf_row6_col2 {\n",
       "  background-color: #b5cdfa;\n",
       "  color: #000000;\n",
       "}\n",
       "#T_61dcf_row6_col5 {\n",
       "  background-color: #e0dbd8;\n",
       "  color: #000000;\n",
       "}\n",
       "#T_61dcf_row6_col7 {\n",
       "  background-color: #dbdcde;\n",
       "  color: #000000;\n",
       "}\n",
       "#T_61dcf_row7_col1 {\n",
       "  background-color: #cdd9ec;\n",
       "  color: #000000;\n",
       "}\n",
       "#T_61dcf_row7_col3 {\n",
       "  background-color: #97b8ff;\n",
       "  color: #000000;\n",
       "}\n",
       "#T_61dcf_row7_col4 {\n",
       "  background-color: #9bbcff;\n",
       "  color: #000000;\n",
       "}\n",
       "#T_61dcf_row7_col5 {\n",
       "  background-color: #9fbfff;\n",
       "  color: #000000;\n",
       "}\n",
       "#T_61dcf_row7_col6 {\n",
       "  background-color: #a7c5fe;\n",
       "  color: #000000;\n",
       "}\n",
       "#T_61dcf_row7_col8 {\n",
       "  background-color: #6384eb;\n",
       "  color: #f1f1f1;\n",
       "}\n",
       "#T_61dcf_row8_col0 {\n",
       "  background-color: #4257c9;\n",
       "  color: #f1f1f1;\n",
       "}\n",
       "#T_61dcf_row8_col2 {\n",
       "  background-color: #bbd1f8;\n",
       "  color: #000000;\n",
       "}\n",
       "#T_61dcf_row8_col3 {\n",
       "  background-color: #82a6fb;\n",
       "  color: #f1f1f1;\n",
       "}\n",
       "#T_61dcf_row8_col4 {\n",
       "  background-color: #8badfd;\n",
       "  color: #000000;\n",
       "}\n",
       "#T_61dcf_row8_col5 {\n",
       "  background-color: #5f7fe8;\n",
       "  color: #f1f1f1;\n",
       "}\n",
       "#T_61dcf_row8_col6 {\n",
       "  background-color: #516ddb;\n",
       "  color: #f1f1f1;\n",
       "}\n",
       "#T_61dcf_row8_col7 {\n",
       "  background-color: #bed2f6;\n",
       "  color: #000000;\n",
       "}\n",
       "</style>\n",
       "<table id=\"T_61dcf\">\n",
       "  <thead>\n",
       "    <tr>\n",
       "      <th class=\"blank level0\" >&nbsp;</th>\n",
       "      <th id=\"T_61dcf_level0_col0\" class=\"col_heading level0 col0\" >PassengerId</th>\n",
       "      <th id=\"T_61dcf_level0_col1\" class=\"col_heading level0 col1\" >Survived</th>\n",
       "      <th id=\"T_61dcf_level0_col2\" class=\"col_heading level0 col2\" >Pclass</th>\n",
       "      <th id=\"T_61dcf_level0_col3\" class=\"col_heading level0 col3\" >Sex</th>\n",
       "      <th id=\"T_61dcf_level0_col4\" class=\"col_heading level0 col4\" >Age</th>\n",
       "      <th id=\"T_61dcf_level0_col5\" class=\"col_heading level0 col5\" >SibSp</th>\n",
       "      <th id=\"T_61dcf_level0_col6\" class=\"col_heading level0 col6\" >Parch</th>\n",
       "      <th id=\"T_61dcf_level0_col7\" class=\"col_heading level0 col7\" >Fare</th>\n",
       "      <th id=\"T_61dcf_level0_col8\" class=\"col_heading level0 col8\" >Embarked</th>\n",
       "    </tr>\n",
       "  </thead>\n",
       "  <tbody>\n",
       "    <tr>\n",
       "      <th id=\"T_61dcf_level0_row0\" class=\"row_heading level0 row0\" >PassengerId</th>\n",
       "      <td id=\"T_61dcf_row0_col0\" class=\"data row0 col0\" >1.000000</td>\n",
       "      <td id=\"T_61dcf_row0_col1\" class=\"data row0 col1\" >-0.005007</td>\n",
       "      <td id=\"T_61dcf_row0_col2\" class=\"data row0 col2\" >-0.035144</td>\n",
       "      <td id=\"T_61dcf_row0_col3\" class=\"data row0 col3\" >-0.042939</td>\n",
       "      <td id=\"T_61dcf_row0_col4\" class=\"data row0 col4\" >0.026624</td>\n",
       "      <td id=\"T_61dcf_row0_col5\" class=\"data row0 col5\" >-0.057527</td>\n",
       "      <td id=\"T_61dcf_row0_col6\" class=\"data row0 col6\" >-0.001652</td>\n",
       "      <td id=\"T_61dcf_row0_col7\" class=\"data row0 col7\" >0.012668</td>\n",
       "      <td id=\"T_61dcf_row0_col8\" class=\"data row0 col8\" >-0.030467</td>\n",
       "    </tr>\n",
       "    <tr>\n",
       "      <th id=\"T_61dcf_level0_row1\" class=\"row_heading level0 row1\" >Survived</th>\n",
       "      <td id=\"T_61dcf_row1_col0\" class=\"data row1 col0\" >-0.005007</td>\n",
       "      <td id=\"T_61dcf_row1_col1\" class=\"data row1 col1\" >1.000000</td>\n",
       "      <td id=\"T_61dcf_row1_col2\" class=\"data row1 col2\" >-0.338481</td>\n",
       "      <td id=\"T_61dcf_row1_col3\" class=\"data row1 col3\" >0.543351</td>\n",
       "      <td id=\"T_61dcf_row1_col4\" class=\"data row1 col4\" >-0.065452</td>\n",
       "      <td id=\"T_61dcf_row1_col5\" class=\"data row1 col5\" >-0.035322</td>\n",
       "      <td id=\"T_61dcf_row1_col6\" class=\"data row1 col6\" >0.081629</td>\n",
       "      <td id=\"T_61dcf_row1_col7\" class=\"data row1 col7\" >0.257482</td>\n",
       "      <td id=\"T_61dcf_row1_col8\" class=\"data row1 col8\" >0.106811</td>\n",
       "    </tr>\n",
       "    <tr>\n",
       "      <th id=\"T_61dcf_level0_row2\" class=\"row_heading level0 row2\" >Pclass</th>\n",
       "      <td id=\"T_61dcf_row2_col0\" class=\"data row2 col0\" >-0.035144</td>\n",
       "      <td id=\"T_61dcf_row2_col1\" class=\"data row2 col1\" >-0.338481</td>\n",
       "      <td id=\"T_61dcf_row2_col2\" class=\"data row2 col2\" >1.000000</td>\n",
       "      <td id=\"T_61dcf_row2_col3\" class=\"data row2 col3\" >-0.131900</td>\n",
       "      <td id=\"T_61dcf_row2_col4\" class=\"data row2 col4\" >-0.291179</td>\n",
       "      <td id=\"T_61dcf_row2_col5\" class=\"data row2 col5\" >0.083081</td>\n",
       "      <td id=\"T_61dcf_row2_col6\" class=\"data row2 col6\" >0.018443</td>\n",
       "      <td id=\"T_61dcf_row2_col7\" class=\"data row2 col7\" >-0.550553</td>\n",
       "      <td id=\"T_61dcf_row2_col8\" class=\"data row2 col8\" >0.045702</td>\n",
       "    </tr>\n",
       "    <tr>\n",
       "      <th id=\"T_61dcf_level0_row3\" class=\"row_heading level0 row3\" >Sex</th>\n",
       "      <td id=\"T_61dcf_row3_col0\" class=\"data row3 col0\" >-0.042939</td>\n",
       "      <td id=\"T_61dcf_row3_col1\" class=\"data row3 col1\" >0.543351</td>\n",
       "      <td id=\"T_61dcf_row3_col2\" class=\"data row3 col2\" >-0.131900</td>\n",
       "      <td id=\"T_61dcf_row3_col3\" class=\"data row3 col3\" >1.000000</td>\n",
       "      <td id=\"T_61dcf_row3_col4\" class=\"data row3 col4\" >-0.057963</td>\n",
       "      <td id=\"T_61dcf_row3_col5\" class=\"data row3 col5\" >0.114631</td>\n",
       "      <td id=\"T_61dcf_row3_col6\" class=\"data row3 col6\" >0.245489</td>\n",
       "      <td id=\"T_61dcf_row3_col7\" class=\"data row3 col7\" >0.182331</td>\n",
       "      <td id=\"T_61dcf_row3_col8\" class=\"data row3 col8\" >0.116569</td>\n",
       "    </tr>\n",
       "    <tr>\n",
       "      <th id=\"T_61dcf_level0_row4\" class=\"row_heading level0 row4\" >Age</th>\n",
       "      <td id=\"T_61dcf_row4_col0\" class=\"data row4 col0\" >0.026624</td>\n",
       "      <td id=\"T_61dcf_row4_col1\" class=\"data row4 col1\" >-0.065452</td>\n",
       "      <td id=\"T_61dcf_row4_col2\" class=\"data row4 col2\" >-0.291179</td>\n",
       "      <td id=\"T_61dcf_row4_col3\" class=\"data row4 col3\" >-0.057963</td>\n",
       "      <td id=\"T_61dcf_row4_col4\" class=\"data row4 col4\" >1.000000</td>\n",
       "      <td id=\"T_61dcf_row4_col5\" class=\"data row4 col5\" >-0.205739</td>\n",
       "      <td id=\"T_61dcf_row4_col6\" class=\"data row4 col6\" >-0.165233</td>\n",
       "      <td id=\"T_61dcf_row4_col7\" class=\"data row4 col7\" >0.083713</td>\n",
       "      <td id=\"T_61dcf_row4_col8\" class=\"data row4 col8\" >0.023940</td>\n",
       "    </tr>\n",
       "    <tr>\n",
       "      <th id=\"T_61dcf_level0_row5\" class=\"row_heading level0 row5\" >SibSp</th>\n",
       "      <td id=\"T_61dcf_row5_col0\" class=\"data row5 col0\" >-0.057527</td>\n",
       "      <td id=\"T_61dcf_row5_col1\" class=\"data row5 col1\" >-0.035322</td>\n",
       "      <td id=\"T_61dcf_row5_col2\" class=\"data row5 col2\" >0.083081</td>\n",
       "      <td id=\"T_61dcf_row5_col3\" class=\"data row5 col3\" >0.114631</td>\n",
       "      <td id=\"T_61dcf_row5_col4\" class=\"data row5 col4\" >-0.205739</td>\n",
       "      <td id=\"T_61dcf_row5_col5\" class=\"data row5 col5\" >1.000000</td>\n",
       "      <td id=\"T_61dcf_row5_col6\" class=\"data row5 col6\" >0.414838</td>\n",
       "      <td id=\"T_61dcf_row5_col7\" class=\"data row5 col7\" >0.159506</td>\n",
       "      <td id=\"T_61dcf_row5_col8\" class=\"data row5 col8\" >-0.059961</td>\n",
       "    </tr>\n",
       "    <tr>\n",
       "      <th id=\"T_61dcf_level0_row6\" class=\"row_heading level0 row6\" >Parch</th>\n",
       "      <td id=\"T_61dcf_row6_col0\" class=\"data row6 col0\" >-0.001652</td>\n",
       "      <td id=\"T_61dcf_row6_col1\" class=\"data row6 col1\" >0.081629</td>\n",
       "      <td id=\"T_61dcf_row6_col2\" class=\"data row6 col2\" >0.018443</td>\n",
       "      <td id=\"T_61dcf_row6_col3\" class=\"data row6 col3\" >0.245489</td>\n",
       "      <td id=\"T_61dcf_row6_col4\" class=\"data row6 col4\" >-0.165233</td>\n",
       "      <td id=\"T_61dcf_row6_col5\" class=\"data row6 col5\" >0.414838</td>\n",
       "      <td id=\"T_61dcf_row6_col6\" class=\"data row6 col6\" >1.000000</td>\n",
       "      <td id=\"T_61dcf_row6_col7\" class=\"data row6 col7\" >0.216252</td>\n",
       "      <td id=\"T_61dcf_row6_col8\" class=\"data row6 col8\" >-0.078665</td>\n",
       "    </tr>\n",
       "    <tr>\n",
       "      <th id=\"T_61dcf_level0_row7\" class=\"row_heading level0 row7\" >Fare</th>\n",
       "      <td id=\"T_61dcf_row7_col0\" class=\"data row7 col0\" >0.012668</td>\n",
       "      <td id=\"T_61dcf_row7_col1\" class=\"data row7 col1\" >0.257482</td>\n",
       "      <td id=\"T_61dcf_row7_col2\" class=\"data row7 col2\" >-0.550553</td>\n",
       "      <td id=\"T_61dcf_row7_col3\" class=\"data row7 col3\" >0.182331</td>\n",
       "      <td id=\"T_61dcf_row7_col4\" class=\"data row7 col4\" >0.083713</td>\n",
       "      <td id=\"T_61dcf_row7_col5\" class=\"data row7 col5\" >0.159506</td>\n",
       "      <td id=\"T_61dcf_row7_col6\" class=\"data row7 col6\" >0.216252</td>\n",
       "      <td id=\"T_61dcf_row7_col7\" class=\"data row7 col7\" >1.000000</td>\n",
       "      <td id=\"T_61dcf_row7_col8\" class=\"data row7 col8\" >0.061061</td>\n",
       "    </tr>\n",
       "    <tr>\n",
       "      <th id=\"T_61dcf_level0_row8\" class=\"row_heading level0 row8\" >Embarked</th>\n",
       "      <td id=\"T_61dcf_row8_col0\" class=\"data row8 col0\" >-0.030467</td>\n",
       "      <td id=\"T_61dcf_row8_col1\" class=\"data row8 col1\" >0.106811</td>\n",
       "      <td id=\"T_61dcf_row8_col2\" class=\"data row8 col2\" >0.045702</td>\n",
       "      <td id=\"T_61dcf_row8_col3\" class=\"data row8 col3\" >0.116569</td>\n",
       "      <td id=\"T_61dcf_row8_col4\" class=\"data row8 col4\" >0.023940</td>\n",
       "      <td id=\"T_61dcf_row8_col5\" class=\"data row8 col5\" >-0.059961</td>\n",
       "      <td id=\"T_61dcf_row8_col6\" class=\"data row8 col6\" >-0.078665</td>\n",
       "      <td id=\"T_61dcf_row8_col7\" class=\"data row8 col7\" >0.061061</td>\n",
       "      <td id=\"T_61dcf_row8_col8\" class=\"data row8 col8\" >1.000000</td>\n",
       "    </tr>\n",
       "  </tbody>\n",
       "</table>\n"
      ],
      "text/plain": [
       "<pandas.io.formats.style.Styler at 0x283151dd190>"
      ]
     },
     "execution_count": 24,
     "metadata": {},
     "output_type": "execute_result"
    }
   ],
   "source": [
    "\n",
    "numeric_columns = training_data.select_dtypes(include=['number'])\n",
    "\n",
    "# Compute the correlation matrix\n",
    "corr = numeric_columns.corr()\n",
    "\n",
    "# Apply background gradient styling\n",
    "styled_corr = corr.style.background_gradient(cmap='coolwarm')\n",
    "\n",
    "# Display the result (this will only work in a Jupyter notebook or similar environment)\n",
    "styled_corr"
   ]
  },
  {
   "cell_type": "markdown",
   "metadata": {},
   "source": [
    "# Data manipulation\n",
    "<font size = \"3\"> We extract the title from the name and combine SibSp with Parch. We convert all text data into numeric values, apply a logarithmic transformation to the Fare column, and implement a data normalization algorithm.\n",
    "</font>"
   ]
  },
  {
   "cell_type": "code",
   "execution_count": 25,
   "metadata": {},
   "outputs": [
    {
     "data": {
      "image/png": "[encoded data removed]",
      "text/plain": [
       "<Figure size 640x480 with 1 Axes>"
      ]
     },
     "metadata": {},
     "output_type": "display_data"
    }
   ],
   "source": [
    "#logaritmez coloana fare\n",
    "training_data['Fare'] = np.log(training_data.Fare+1).astype(int)\n",
    "test_data['Fare'] = np.log(test_data.Fare+1).astype(int)\n",
    "plt.hist(x = training_data['Fare'])\n",
    "plt.title('Fare')\n",
    "plt.show()"
   ]
  },
  {
   "cell_type": "code",
   "execution_count": 26,
   "metadata": {},
   "outputs": [],
   "source": [
    "#We extract only the titles from the names and then remove the 'Name' column.\n",
    "training_data['Title'] = training_data.Name.apply(lambda x: x.split(',')[1].split('.')[0].strip())\n",
    "test_data['Title'] = test_data.Name.apply(lambda x: x.split(',')[1].split('.')[0].strip())\n",
    "training_data = training_data.drop(['Name'], axis=1)\n",
    "test_data = test_data.drop(['Name'], axis=1)"
   ]
  },
  {
   "cell_type": "code",
   "execution_count": 27,
   "metadata": {},
   "outputs": [
    {
     "data": {
      "text/plain": [
       "Title\n",
       "Mr              517\n",
       "Miss            182\n",
       "Mrs             125\n",
       "Master           40\n",
       "Dr                7\n",
       "Rev               6\n",
       "Col               2\n",
       "Mlle              2\n",
       "Major             2\n",
       "Ms                1\n",
       "Mme               1\n",
       "Don               1\n",
       "Lady              1\n",
       "Sir               1\n",
       "Capt              1\n",
       "the Countess      1\n",
       "Jonkheer          1\n",
       "Name: count, dtype: int64"
      ]
     },
     "execution_count": 27,
     "metadata": {},
     "output_type": "execute_result"
    }
   ],
   "source": [
    "training_data['Title'].value_counts()"
   ]
  },
  {
   "cell_type": "code",
   "execution_count": 28,
   "metadata": {},
   "outputs": [],
   "source": [
    "#We consolidate special titles under a single definition, namely \"Others.\"\n",
    "training_data.replace({'Master': 'Master','Mrs': 'Mrs','Miss': 'Miss','Mr': 'Mr','Dr': 'Altele', 'Rev': 'Altele', 'Mlle' : 'Altele', 'Major' : 'Altele', 'Col' : 'Altele', 'Lady' : 'Altele', 'Don' : 'Altele', 'Mme' : 'Altele', 'Ms' : 'Altele', 'the Countess' : 'Altele', 'Sir' : 'Altele', 'Capt' : 'Altele', 'Jonkheer' : 'Altele', 'Dona':'Altele'}, inplace=True)\n",
    "test_data.replace({'Master': 'Master','Mrs': 'Mrs','Miss': 'Miss','Mr': 'Mr','Dr': 'Altele', 'Rev': 'Altele', 'Mlle' : 'Altele', 'Major' : 'Altele', 'Col' : 'Altele', 'Lady' : 'Altele', 'Don' : 'Altele', 'Mme' : 'Altele', 'Ms' : 'Altele', 'the Countess' : 'Altele', 'Sir' : 'Altele', 'Capt' : 'Altele', 'Jonkheer' : 'Altele', 'Dona':'Altele'}, inplace=True)"
   ]
  },
  {
   "cell_type": "code",
   "execution_count": 29,
   "metadata": {},
   "outputs": [
    {
     "name": "stderr",
     "output_type": "stream",
     "text": [
      "C:\\Users\\danut\\AppData\\Local\\Temp\\ipykernel_14484\\662704483.py:3: FutureWarning: Downcasting behavior in `replace` is deprecated and will be removed in a future version. To retain the old behavior, explicitly call `result.infer_objects(copy=False)`. To opt-in to the future behavior, set `pd.set_option('future.no_silent_downcasting', True)`\n",
      "  training_data.replace({'Mr' : 0, 'Miss' : 1, 'Mrs': 2, 'Master' : 3, 'Altele' : 4}, inplace=True)\n",
      "C:\\Users\\danut\\AppData\\Local\\Temp\\ipykernel_14484\\662704483.py:5: FutureWarning: Downcasting behavior in `replace` is deprecated and will be removed in a future version. To retain the old behavior, explicitly call `result.infer_objects(copy=False)`. To opt-in to the future behavior, set `pd.set_option('future.no_silent_downcasting', True)`\n",
      "  test_data.replace({'Mr' : 0, 'Miss' : 1, 'Mrs': 2, 'Master' : 3, 'Altele' : 4}, inplace=True)\n"
     ]
    }
   ],
   "source": [
    "#We transform the text into numeric values.\n",
    "\n",
    "training_data.replace({'Mr' : 0, 'Miss' : 1, 'Mrs': 2, 'Master' : 3, 'Altele' : 4}, inplace=True)\n",
    "training_data = training_data.infer_objects(copy=False)\n",
    "test_data.replace({'Mr' : 0, 'Miss' : 1, 'Mrs': 2, 'Master' : 3, 'Altele' : 4}, inplace=True)\n",
    "test_data = test_data.infer_objects(copy=False)"
   ]
  },
  {
   "cell_type": "code",
   "execution_count": 30,
   "metadata": {},
   "outputs": [],
   "source": [
    "final_columns = ['Pclass', 'Sex', 'Age', 'SibSp', 'Parch' ,'Fare', 'Title']\n",
    "X_test = test_data[final_columns]\n",
    "X_train = training_data[final_columns]\n",
    "y_train = training_data['Survived']\n",
    "training_data = training_data[final_columns]"
   ]
  },
  {
   "cell_type": "code",
   "execution_count": 31,
   "metadata": {},
   "outputs": [],
   "source": [
    "#Data normalization\n",
    "from sklearn.preprocessing import MinMaxScaler\n",
    "\n",
    "# fit scaler on training data\n",
    "normalizator = MinMaxScaler()\n",
    "X_train = normalizator.fit_transform(X_train)\n",
    "X_test = normalizator.fit_transform(X_test)"
   ]
  },
  {
   "cell_type": "code",
   "execution_count": 32,
   "metadata": {},
   "outputs": [],
   "source": [
    "from sklearn.model_selection import train_test_split\n",
    "#We split the existing training data into training data and validation data.\n",
    "X_train_split, X_validation, y_train_split, y_validation = train_test_split(X_train, y_train, test_size=0.3, random_state=1)"
   ]
  },
  {
   "cell_type": "markdown",
   "metadata": {},
   "source": [
    "# Model selection\n",
    "<font size = \"3\"> I will test several models with default values, from which I will select the top 3 and improve them using hyperparameters. With these models, I will make predictions. Additionally, I will use ensemble methods such as soft voting and hard voting.\n",
    "</font>"
   ]
  },
  {
   "cell_type": "code",
   "execution_count": 33,
   "metadata": {},
   "outputs": [],
   "source": [
    "from sklearn.linear_model import LogisticRegression\n",
    "from sklearn.svm import SVC\n",
    "from sklearn.ensemble import RandomForestClassifier, VotingClassifier, ExtraTreesClassifier\n",
    "from sklearn.neighbors import KNeighborsClassifier\n",
    "from sklearn.naive_bayes import GaussianNB\n",
    "from sklearn.tree import DecisionTreeClassifier\n",
    "from sklearn.model_selection import cross_val_score\n",
    "from sklearn.metrics import confusion_matrix\n",
    "from sklearn.metrics import precision_score, recall_score, f1_score, accuracy_score, roc_curve, roc_auc_score\n",
    "from sklearn.model_selection import cross_val_predict"
   ]
  },
  {
   "cell_type": "code",
   "execution_count": 34,
   "metadata": {},
   "outputs": [
    {
     "name": "stdout",
     "output_type": "stream",
     "text": [
      "0.7991212102190697\n"
     ]
    }
   ],
   "source": [
    "#Naive Bayes\n",
    "gaussian_nb = GaussianNB()\n",
    "cv = cross_val_score(gaussian_nb, X_train, y_train, cv=5)\n",
    "print(cv.mean())"
   ]
  },
  {
   "cell_type": "code",
   "execution_count": 35,
   "metadata": {},
   "outputs": [
    {
     "name": "stdout",
     "output_type": "stream",
     "text": [
      "0.8282593685267716\n"
     ]
    }
   ],
   "source": [
    "#Support Vector Classifier\n",
    "svc = SVC(probability=True)\n",
    "cv = cross_val_score(svc, X_train, y_train ,cv=5)\n",
    "print(cv.mean())"
   ]
  },
  {
   "cell_type": "code",
   "execution_count": 36,
   "metadata": {},
   "outputs": [
    {
     "name": "stdout",
     "output_type": "stream",
     "text": [
      "0.8193459293201932\n"
     ]
    }
   ],
   "source": [
    "#K-Nearest Neighbors\n",
    "KNN = KNeighborsClassifier()\n",
    "cv = cross_val_score(KNN,X_train,y_train,cv=5)\n",
    "print(cv.mean())"
   ]
  },
  {
   "cell_type": "code",
   "execution_count": 37,
   "metadata": {},
   "outputs": [
    {
     "name": "stdout",
     "output_type": "stream",
     "text": [
      "0.8002510827945516\n"
     ]
    }
   ],
   "source": [
    "#Random Forest\n",
    "RF = RandomForestClassifier()\n",
    "cv = cross_val_score(RF,X_train,y_train,cv=5)\n",
    "print(cv.mean())"
   ]
  },
  {
   "cell_type": "code",
   "execution_count": 38,
   "metadata": {},
   "outputs": [
    {
     "name": "stdout",
     "output_type": "stream",
     "text": [
      "0.7957315924926245\n"
     ]
    }
   ],
   "source": [
    "#Logistic Regression\n",
    "LR = LogisticRegression()\n",
    "cv = cross_val_score(LR,X_train,y_train,cv=5)\n",
    "print(cv.mean())"
   ]
  },
  {
   "cell_type": "code",
   "execution_count": 39,
   "metadata": {},
   "outputs": [
    {
     "name": "stdout",
     "output_type": "stream",
     "text": [
      "0.7890025735986441\n"
     ]
    }
   ],
   "source": [
    "#Decision Tree Classifier\n",
    "DTC = DecisionTreeClassifier()\n",
    "cv = cross_val_score(DTC,X_train,y_train,cv=5)\n",
    "print(cv.mean())"
   ]
  },
  {
   "cell_type": "code",
   "execution_count": 40,
   "metadata": {},
   "outputs": [],
   "source": [
    "from sklearn.model_selection import GridSearchCV \n",
    "from sklearn.model_selection import RandomizedSearchCV"
   ]
  },
  {
   "cell_type": "code",
   "execution_count": 41,
   "metadata": {},
   "outputs": [
    {
     "name": "stdout",
     "output_type": "stream",
     "text": [
      "Fitting 5 folds for each of 80 candidates, totalling 400 fits\n",
      "The best performance: 0.8238277572029377\n",
      "The optimal parameters: {'algorithm': 'auto', 'n_neighbors': 3, 'p': 1, 'weights': 'uniform'}\n"
     ]
    }
   ],
   "source": [
    "knn = KNeighborsClassifier()\n",
    "parameters = {\n",
    "                'n_neighbors' : [3,5,7,9,11],\n",
    "                'weights' : ['uniform', 'distance'],\n",
    "                'algorithm' : ['auto', 'ball_tree','kd_tree', 'brute'],\n",
    "                'p' : [1,2]\n",
    "            }\n",
    "gs_knn = GridSearchCV(knn, param_grid = parameters, verbose = True, n_jobs = -1)\n",
    "knn = gs_knn.fit(X_train,y_train)\n",
    "print('The best performance: ' + str(knn.best_score_))\n",
    "print(\"The optimal parameters: \" + str(knn.best_params_))\n"
   ]
  },
  {
   "cell_type": "code",
   "execution_count": 42,
   "metadata": {},
   "outputs": [
    {
     "name": "stdout",
     "output_type": "stream",
     "text": [
      "Fitting 5 folds for each of 78 candidates, totalling 390 fits\n",
      "The best performance: 0.8327600276191074\n",
      "The optimal parameters: {'C': 0.75, 'gamma': 2, 'kernel': 'rbf'}\n"
     ]
    }
   ],
   "source": [
    "svc = SVC(probability=True)\n",
    "parameters = [\n",
    "                {'kernel': ['rbf'], 'gamma': [.1, .5, .75, 1, 1.25, 2, 2.5], 'C': [.1, .25, .5, .75, 1, 10]},\n",
    "                {'kernel': ['linear'], 'C': [.1,.25, .5, .75, 1, 10]},\n",
    "                {'kernel': ['poly'], 'degree' : [1,2,3,4,5], 'C': [.1, .25, .5, .75, 1, 10]}\n",
    "            ]\n",
    "gs_svc = GridSearchCV(svc, param_grid = parameters, verbose = True, n_jobs = -1)\n",
    "svc = gs_svc.fit(X_train,y_train)\n",
    "print('The best performance: ' + str(svc.best_score_))\n",
    "print(\"The optimal parameters: \" + str(svc.best_params_))"
   ]
  },
  {
   "cell_type": "code",
   "execution_count": 43,
   "metadata": {},
   "outputs": [
    {
     "name": "stdout",
     "output_type": "stream",
     "text": [
      "Fitting 5 folds for each of 60 candidates, totalling 300 fits\n",
      "The best performance: 0.7957378695624883\n",
      "The optimal parameters: {'C': np.float64(1.6102620275609392), 'max_iter': 2000, 'penalty': 'l2', 'solver': 'liblinear'}\n"
     ]
    }
   ],
   "source": [
    "lr = LogisticRegression()\n",
    "parameters = {\n",
    "                'penalty' : ['l1', 'l2'],\n",
    "                'C' : np.logspace(-2, 2, 30),\n",
    "                'solver' : ['liblinear'],\n",
    "                'max_iter' : [2000]\n",
    "            }\n",
    "gs_lr = GridSearchCV(lr, param_grid = parameters, verbose = True, n_jobs = -1)\n",
    "lr = gs_lr.fit(X_train, y_train)\n",
    "print(\"The best performance: \" + str(lr.best_score_))\n",
    "print(\"The optimal parameters: \" + str(lr.best_params_))"
   ]
  },
  {
   "cell_type": "code",
   "execution_count": 44,
   "metadata": {},
   "outputs": [
    {
     "name": "stdout",
     "output_type": "stream",
     "text": [
      "Fitting 5 folds for each of 100 candidates, totalling 500 fits\n"
     ]
    },
    {
     "name": "stderr",
     "output_type": "stream",
     "text": [
      "c:\\Users\\danut\\AppData\\Local\\Programs\\Python\\Python312\\Lib\\site-packages\\sklearn\\model_selection\\_validation.py:540: FitFailedWarning: \n",
      "270 fits failed out of a total of 500.\n",
      "The score on these train-test partitions for these parameters will be set to nan.\n",
      "If these failures are not expected, you can try to debug them by setting error_score='raise'.\n",
      "\n",
      "Below are more details about the failures:\n",
      "--------------------------------------------------------------------------------\n",
      "100 fits failed with the following error:\n",
      "Traceback (most recent call last):\n",
      "  File \"c:\\Users\\danut\\AppData\\Local\\Programs\\Python\\Python312\\Lib\\site-packages\\sklearn\\model_selection\\_validation.py\", line 888, in _fit_and_score\n",
      "    estimator.fit(X_train, y_train, **fit_params)\n",
      "  File \"c:\\Users\\danut\\AppData\\Local\\Programs\\Python\\Python312\\Lib\\site-packages\\sklearn\\base.py\", line 1466, in wrapper\n",
      "    estimator._validate_params()\n",
      "  File \"c:\\Users\\danut\\AppData\\Local\\Programs\\Python\\Python312\\Lib\\site-packages\\sklearn\\base.py\", line 666, in _validate_params\n",
      "    validate_parameter_constraints(\n",
      "  File \"c:\\Users\\danut\\AppData\\Local\\Programs\\Python\\Python312\\Lib\\site-packages\\sklearn\\utils\\_param_validation.py\", line 95, in validate_parameter_constraints\n",
      "    raise InvalidParameterError(\n",
      "sklearn.utils._param_validation.InvalidParameterError: The 'max_features' parameter of RandomForestClassifier must be an int in the range [1, inf), a float in the range (0.0, 1.0], a str among {'log2', 'sqrt'} or None. Got 'auto' instead.\n",
      "\n",
      "--------------------------------------------------------------------------------\n",
      "170 fits failed with the following error:\n",
      "Traceback (most recent call last):\n",
      "  File \"c:\\Users\\danut\\AppData\\Local\\Programs\\Python\\Python312\\Lib\\site-packages\\sklearn\\model_selection\\_validation.py\", line 888, in _fit_and_score\n",
      "    estimator.fit(X_train, y_train, **fit_params)\n",
      "  File \"c:\\Users\\danut\\AppData\\Local\\Programs\\Python\\Python312\\Lib\\site-packages\\sklearn\\base.py\", line 1466, in wrapper\n",
      "    estimator._validate_params()\n",
      "  File \"c:\\Users\\danut\\AppData\\Local\\Programs\\Python\\Python312\\Lib\\site-packages\\sklearn\\base.py\", line 666, in _validate_params\n",
      "    validate_parameter_constraints(\n",
      "  File \"c:\\Users\\danut\\AppData\\Local\\Programs\\Python\\Python312\\Lib\\site-packages\\sklearn\\utils\\_param_validation.py\", line 95, in validate_parameter_constraints\n",
      "    raise InvalidParameterError(\n",
      "sklearn.utils._param_validation.InvalidParameterError: The 'max_features' parameter of RandomForestClassifier must be an int in the range [1, inf), a float in the range (0.0, 1.0], a str among {'sqrt', 'log2'} or None. Got 'auto' instead.\n",
      "\n",
      "  warnings.warn(some_fits_failed_message, FitFailedWarning)\n",
      "c:\\Users\\danut\\AppData\\Local\\Programs\\Python\\Python312\\Lib\\site-packages\\sklearn\\model_selection\\_search.py:1102: UserWarning: One or more of the test scores are non-finite: [0.79465194        nan 0.81482644 0.82041931        nan        nan\n",
      " 0.80363442        nan        nan        nan        nan 0.81036972\n",
      " 0.81707363 0.81707991        nan 0.82490741        nan 0.81370912\n",
      " 0.81149959        nan        nan        nan 0.80699893 0.81370912\n",
      " 0.81149331        nan 0.80923357 0.81707363 0.81485782        nan\n",
      "        nan 0.81149331        nan 0.81707363        nan 0.81149959\n",
      "        nan 0.81707363        nan 0.81933338        nan 0.82153035\n",
      " 0.810376   0.81374051        nan 0.81372795        nan        nan\n",
      "        nan        nan 0.82268533 0.81707991        nan        nan\n",
      "        nan 0.81485155        nan        nan 0.81148076        nan\n",
      "        nan 0.81595631        nan 0.79576925        nan        nan\n",
      " 0.81707363        nan 0.82156173        nan 0.81482644 0.81820978\n",
      "        nan 0.8215429         nan 0.82267278 0.82156801 0.81820978\n",
      " 0.82041931 0.82156173        nan        nan 0.81485155        nan\n",
      " 0.81370912 0.81374051        nan        nan        nan        nan\n",
      "        nan 0.79576925        nan        nan 0.8215429         nan\n",
      "        nan        nan        nan        nan]\n",
      "  warnings.warn(\n"
     ]
    },
    {
     "name": "stdout",
     "output_type": "stream",
     "text": [
      "The best performance:0.8249074132195092\n",
      "The optimal parameters: {'n_estimators': 500, 'min_samples_split': 2, 'min_samples_leaf': 2, 'max_features': 'sqrt', 'max_depth': 5, 'bootstrap': False}\n"
     ]
    }
   ],
   "source": [
    "rf = RandomForestClassifier(random_state = 1)\n",
    "parameters = {\n",
    "                'n_estimators': [100,250,500,750,1000], \n",
    "                'bootstrap': [True,False],\n",
    "                'max_depth': [5,10,20,50,75,100,None],\n",
    "                'max_features': ['auto','sqrt'],\n",
    "                'min_samples_leaf': [1,2,5,10],\n",
    "                'min_samples_split': [2,5,10]\n",
    "            }\n",
    "                                  \n",
    "rf_randomized = RandomizedSearchCV(rf, param_distributions = parameters, n_iter = 100, verbose = True, n_jobs = -1)\n",
    "best_rf_randomized = rf_randomized.fit(X_train,y_train)\n",
    "print(\"The best performance:\" + str(best_rf_randomized.best_score_))\n",
    "print(\"The optimal parameters: \" + str(best_rf_randomized.best_params_))"
   ]
  },
  {
   "cell_type": "code",
   "execution_count": 45,
   "metadata": {},
   "outputs": [
    {
     "name": "stdout",
     "output_type": "stream",
     "text": [
      "Fitting 5 folds for each of 144 candidates, totalling 720 fits\n"
     ]
    },
    {
     "name": "stderr",
     "output_type": "stream",
     "text": [
      "c:\\Users\\danut\\AppData\\Local\\Programs\\Python\\Python312\\Lib\\site-packages\\numpy\\ma\\core.py:2846: RuntimeWarning: invalid value encountered in cast\n",
      "  _data = np.array(data, dtype=dtype, copy=copy,\n"
     ]
    },
    {
     "name": "stdout",
     "output_type": "stream",
     "text": [
      "The best performance: 0.8305128366078716\n",
      "The optimal parameters: {'bootstrap': False, 'criterion': 'entropy', 'max_depth': 5, 'max_features': 'sqrt', 'min_samples_leaf': 1, 'min_samples_split': 5, 'n_estimators': 750}\n"
     ]
    }
   ],
   "source": [
    "rf = RandomForestClassifier()\n",
    "parameters = {\n",
    "                'n_estimators': [700,750,800],\n",
    "                'criterion': ['gini' , 'entropy'],\n",
    "                'bootstrap': [False],\n",
    "                'max_depth': [4,5,6],\n",
    "                'max_features': ['log2','sqrt'],\n",
    "                'min_samples_leaf': [1,2],\n",
    "                'min_samples_split': [5,6]\n",
    "            }\n",
    "                                  \n",
    "gs_rf = GridSearchCV(rf, param_grid = parameters, verbose = True, n_jobs = -1)\n",
    "rf = gs_rf.fit(X_train,y_train)\n",
    "print(\"The best performance: \" + str(rf.best_score_))\n",
    "print(\"The optimal parameters: \" + str(rf.best_params_))"
   ]
  },
  {
   "cell_type": "code",
   "execution_count": 46,
   "metadata": {},
   "outputs": [],
   "source": [
    "knn_final = knn.best_estimator_\n",
    "svc_final = svc.best_estimator_\n",
    "rf_final = rf.best_estimator_"
   ]
  },
  {
   "cell_type": "code",
   "execution_count": 47,
   "metadata": {},
   "outputs": [],
   "source": [
    "vot_hard = VotingClassifier(estimators = [('knn',knn_final),('rf',rf_final),('svc',svc_final)], voting = 'hard') \n",
    "vot_soft = VotingClassifier(estimators = [('knn',knn_final),('rf',rf_final),('svc',svc_final)], voting = 'soft') "
   ]
  },
  {
   "cell_type": "code",
   "execution_count": 48,
   "metadata": {},
   "outputs": [
    {
     "name": "stdout",
     "output_type": "stream",
     "text": [
      "voting_clf_hard : [0.84916201 0.80898876 0.83146067 0.80337079 0.85955056]\n",
      "voting_clf_hard the average performance : 0.8305065595380077\n",
      "voting_clf_soft : [0.84357542 0.79775281 0.83146067 0.80898876 0.85955056]\n",
      "voting_clf_soft the average performance : 0.8271420500910176\n"
     ]
    }
   ],
   "source": [
    "print('voting_clf_hard :',cross_val_score(vot_hard,X_train,y_train,cv=5))\n",
    "print('voting_clf_hard the average performance :',cross_val_score(vot_hard,X_train,y_train,cv=5).mean())\n",
    "\n",
    "print('voting_clf_soft :',cross_val_score(vot_soft,X_train,y_train,cv=5))\n",
    "print('voting_clf_soft the average performance :',cross_val_score(vot_soft,X_train,y_train,cv=5).mean())"
   ]
  },
  {
   "cell_type": "code",
   "execution_count": 49,
   "metadata": {},
   "outputs": [
    {
     "data": {
      "text/html": [
       "<style>#sk-container-id-1 {\n",
       "  /* Definition of color scheme common for light and dark mode */\n",
       "  --sklearn-color-text: black;\n",
       "  --sklearn-color-line: gray;\n",
       "  /* Definition of color scheme for unfitted estimators */\n",
       "  --sklearn-color-unfitted-level-0: #fff5e6;\n",
       "  --sklearn-color-unfitted-level-1: #f6e4d2;\n",
       "  --sklearn-color-unfitted-level-2: #ffe0b3;\n",
       "  --sklearn-color-unfitted-level-3: chocolate;\n",
       "  /* Definition of color scheme for fitted estimators */\n",
       "  --sklearn-color-fitted-level-0: #f0f8ff;\n",
       "  --sklearn-color-fitted-level-1: #d4ebff;\n",
       "  --sklearn-color-fitted-level-2: #b3dbfd;\n",
       "  --sklearn-color-fitted-level-3: cornflowerblue;\n",
       "\n",
       "  /* Specific color for light theme */\n",
       "  --sklearn-color-text-on-default-background: var(--sg-text-color, var(--theme-code-foreground, var(--jp-content-font-color1, black)));\n",
       "  --sklearn-color-background: var(--sg-background-color, var(--theme-background, var(--jp-layout-color0, white)));\n",
       "  --sklearn-color-border-box: var(--sg-text-color, var(--theme-code-foreground, var(--jp-content-font-color1, black)));\n",
       "  --sklearn-color-icon: #696969;\n",
       "\n",
       "  @media (prefers-color-scheme: dark) {\n",
       "    /* Redefinition of color scheme for dark theme */\n",
       "    --sklearn-color-text-on-default-background: var(--sg-text-color, var(--theme-code-foreground, var(--jp-content-font-color1, white)));\n",
       "    --sklearn-color-background: var(--sg-background-color, var(--theme-background, var(--jp-layout-color0, #111)));\n",
       "    --sklearn-color-border-box: var(--sg-text-color, var(--theme-code-foreground, var(--jp-content-font-color1, white)));\n",
       "    --sklearn-color-icon: #878787;\n",
       "  }\n",
       "}\n",
       "\n",
       "#sk-container-id-1 {\n",
       "  color: var(--sklearn-color-text);\n",
       "}\n",
       "\n",
       "#sk-container-id-1 pre {\n",
       "  padding: 0;\n",
       "}\n",
       "\n",
       "#sk-container-id-1 input.sk-hidden--visually {\n",
       "  border: 0;\n",
       "  clip: rect(1px 1px 1px 1px);\n",
       "  clip: rect(1px, 1px, 1px, 1px);\n",
       "  height: 1px;\n",
       "  margin: -1px;\n",
       "  overflow: hidden;\n",
       "  padding: 0;\n",
       "  position: absolute;\n",
       "  width: 1px;\n",
       "}\n",
       "\n",
       "#sk-container-id-1 div.sk-dashed-wrapped {\n",
       "  border: 1px dashed var(--sklearn-color-line);\n",
       "  margin: 0 0.4em 0.5em 0.4em;\n",
       "  box-sizing: border-box;\n",
       "  padding-bottom: 0.4em;\n",
       "  background-color: var(--sklearn-color-background);\n",
       "}\n",
       "\n",
       "#sk-container-id-1 div.sk-container {\n",
       "  /* jupyter's `normalize.less` sets `[hidden] { display: none; }`\n",
       "     but bootstrap.min.css set `[hidden] { display: none !important; }`\n",
       "     so we also need the `!important` here to be able to override the\n",
       "     default hidden behavior on the sphinx rendered scikit-learn.org.\n",
       "     See: https://github.com/scikit-learn/scikit-learn/issues/21755 */\n",
       "  display: inline-block !important;\n",
       "  position: relative;\n",
       "}\n",
       "\n",
       "#sk-container-id-1 div.sk-text-repr-fallback {\n",
       "  display: none;\n",
       "}\n",
       "\n",
       "div.sk-parallel-item,\n",
       "div.sk-serial,\n",
       "div.sk-item {\n",
       "  /* draw centered vertical line to link estimators */\n",
       "  background-image: linear-gradient(var(--sklearn-color-text-on-default-background), var(--sklearn-color-text-on-default-background));\n",
       "  background-size: 2px 100%;\n",
       "  background-repeat: no-repeat;\n",
       "  background-position: center center;\n",
       "}\n",
       "\n",
       "/* Parallel-specific style estimator block */\n",
       "\n",
       "#sk-container-id-1 div.sk-parallel-item::after {\n",
       "  content: \"\";\n",
       "  width: 100%;\n",
       "  border-bottom: 2px solid var(--sklearn-color-text-on-default-background);\n",
       "  flex-grow: 1;\n",
       "}\n",
       "\n",
       "#sk-container-id-1 div.sk-parallel {\n",
       "  display: flex;\n",
       "  align-items: stretch;\n",
       "  justify-content: center;\n",
       "  background-color: var(--sklearn-color-background);\n",
       "  position: relative;\n",
       "}\n",
       "\n",
       "#sk-container-id-1 div.sk-parallel-item {\n",
       "  display: flex;\n",
       "  flex-direction: column;\n",
       "}\n",
       "\n",
       "#sk-container-id-1 div.sk-parallel-item:first-child::after {\n",
       "  align-self: flex-end;\n",
       "  width: 50%;\n",
       "}\n",
       "\n",
       "#sk-container-id-1 div.sk-parallel-item:last-child::after {\n",
       "  align-self: flex-start;\n",
       "  width: 50%;\n",
       "}\n",
       "\n",
       "#sk-container-id-1 div.sk-parallel-item:only-child::after {\n",
       "  width: 0;\n",
       "}\n",
       "\n",
       "/* Serial-specific style estimator block */\n",
       "\n",
       "#sk-container-id-1 div.sk-serial {\n",
       "  display: flex;\n",
       "  flex-direction: column;\n",
       "  align-items: center;\n",
       "  background-color: var(--sklearn-color-background);\n",
       "  padding-right: 1em;\n",
       "  padding-left: 1em;\n",
       "}\n",
       "\n",
       "\n",
       "/* Toggleable style: style used for estimator/Pipeline/ColumnTransformer box that is\n",
       "clickable and can be expanded/collapsed.\n",
       "- Pipeline and ColumnTransformer use this feature and define the default style\n",
       "- Estimators will overwrite some part of the style using the `sk-estimator` class\n",
       "*/\n",
       "\n",
       "/* Pipeline and ColumnTransformer style (default) */\n",
       "\n",
       "#sk-container-id-1 div.sk-toggleable {\n",
       "  /* Default theme specific background. It is overwritten whether we have a\n",
       "  specific estimator or a Pipeline/ColumnTransformer */\n",
       "  background-color: var(--sklearn-color-background);\n",
       "}\n",
       "\n",
       "/* Toggleable label */\n",
       "#sk-container-id-1 label.sk-toggleable__label {\n",
       "  cursor: pointer;\n",
       "  display: block;\n",
       "  width: 100%;\n",
       "  margin-bottom: 0;\n",
       "  padding: 0.5em;\n",
       "  box-sizing: border-box;\n",
       "  text-align: center;\n",
       "}\n",
       "\n",
       "#sk-container-id-1 label.sk-toggleable__label-arrow:before {\n",
       "  /* Arrow on the left of the label */\n",
       "  content: \"▸\";\n",
       "  float: left;\n",
       "  margin-right: 0.25em;\n",
       "  color: var(--sklearn-color-icon);\n",
       "}\n",
       "\n",
       "#sk-container-id-1 label.sk-toggleable__label-arrow:hover:before {\n",
       "  color: var(--sklearn-color-text);\n",
       "}\n",
       "\n",
       "/* Toggleable content - dropdown */\n",
       "\n",
       "#sk-container-id-1 div.sk-toggleable__content {\n",
       "  max-height: 0;\n",
       "  max-width: 0;\n",
       "  overflow: hidden;\n",
       "  text-align: left;\n",
       "  /* unfitted */\n",
       "  background-color: var(--sklearn-color-unfitted-level-0);\n",
       "}\n",
       "\n",
       "#sk-container-id-1 div.sk-toggleable__content.fitted {\n",
       "  /* fitted */\n",
       "  background-color: var(--sklearn-color-fitted-level-0);\n",
       "}\n",
       "\n",
       "#sk-container-id-1 div.sk-toggleable__content pre {\n",
       "  margin: 0.2em;\n",
       "  border-radius: 0.25em;\n",
       "  color: var(--sklearn-color-text);\n",
       "  /* unfitted */\n",
       "  background-color: var(--sklearn-color-unfitted-level-0);\n",
       "}\n",
       "\n",
       "#sk-container-id-1 div.sk-toggleable__content.fitted pre {\n",
       "  /* unfitted */\n",
       "  background-color: var(--sklearn-color-fitted-level-0);\n",
       "}\n",
       "\n",
       "#sk-container-id-1 input.sk-toggleable__control:checked~div.sk-toggleable__content {\n",
       "  /* Expand drop-down */\n",
       "  max-height: 200px;\n",
       "  max-width: 100%;\n",
       "  overflow: auto;\n",
       "}\n",
       "\n",
       "#sk-container-id-1 input.sk-toggleable__control:checked~label.sk-toggleable__label-arrow:before {\n",
       "  content: \"▾\";\n",
       "}\n",
       "\n",
       "/* Pipeline/ColumnTransformer-specific style */\n",
       "\n",
       "#sk-container-id-1 div.sk-label input.sk-toggleable__control:checked~label.sk-toggleable__label {\n",
       "  color: var(--sklearn-color-text);\n",
       "  background-color: var(--sklearn-color-unfitted-level-2);\n",
       "}\n",
       "\n",
       "#sk-container-id-1 div.sk-label.fitted input.sk-toggleable__control:checked~label.sk-toggleable__label {\n",
       "  background-color: var(--sklearn-color-fitted-level-2);\n",
       "}\n",
       "\n",
       "/* Estimator-specific style */\n",
       "\n",
       "/* Colorize estimator box */\n",
       "#sk-container-id-1 div.sk-estimator input.sk-toggleable__control:checked~label.sk-toggleable__label {\n",
       "  /* unfitted */\n",
       "  background-color: var(--sklearn-color-unfitted-level-2);\n",
       "}\n",
       "\n",
       "#sk-container-id-1 div.sk-estimator.fitted input.sk-toggleable__control:checked~label.sk-toggleable__label {\n",
       "  /* fitted */\n",
       "  background-color: var(--sklearn-color-fitted-level-2);\n",
       "}\n",
       "\n",
       "#sk-container-id-1 div.sk-label label.sk-toggleable__label,\n",
       "#sk-container-id-1 div.sk-label label {\n",
       "  /* The background is the default theme color */\n",
       "  color: var(--sklearn-color-text-on-default-background);\n",
       "}\n",
       "\n",
       "/* On hover, darken the color of the background */\n",
       "#sk-container-id-1 div.sk-label:hover label.sk-toggleable__label {\n",
       "  color: var(--sklearn-color-text);\n",
       "  background-color: var(--sklearn-color-unfitted-level-2);\n",
       "}\n",
       "\n",
       "/* Label box, darken color on hover, fitted */\n",
       "#sk-container-id-1 div.sk-label.fitted:hover label.sk-toggleable__label.fitted {\n",
       "  color: var(--sklearn-color-text);\n",
       "  background-color: var(--sklearn-color-fitted-level-2);\n",
       "}\n",
       "\n",
       "/* Estimator label */\n",
       "\n",
       "#sk-container-id-1 div.sk-label label {\n",
       "  font-family: monospace;\n",
       "  font-weight: bold;\n",
       "  display: inline-block;\n",
       "  line-height: 1.2em;\n",
       "}\n",
       "\n",
       "#sk-container-id-1 div.sk-label-container {\n",
       "  text-align: center;\n",
       "}\n",
       "\n",
       "/* Estimator-specific */\n",
       "#sk-container-id-1 div.sk-estimator {\n",
       "  font-family: monospace;\n",
       "  border: 1px dotted var(--sklearn-color-border-box);\n",
       "  border-radius: 0.25em;\n",
       "  box-sizing: border-box;\n",
       "  margin-bottom: 0.5em;\n",
       "  /* unfitted */\n",
       "  background-color: var(--sklearn-color-unfitted-level-0);\n",
       "}\n",
       "\n",
       "#sk-container-id-1 div.sk-estimator.fitted {\n",
       "  /* fitted */\n",
       "  background-color: var(--sklearn-color-fitted-level-0);\n",
       "}\n",
       "\n",
       "/* on hover */\n",
       "#sk-container-id-1 div.sk-estimator:hover {\n",
       "  /* unfitted */\n",
       "  background-color: var(--sklearn-color-unfitted-level-2);\n",
       "}\n",
       "\n",
       "#sk-container-id-1 div.sk-estimator.fitted:hover {\n",
       "  /* fitted */\n",
       "  background-color: var(--sklearn-color-fitted-level-2);\n",
       "}\n",
       "\n",
       "/* Specification for estimator info (e.g. \"i\" and \"?\") */\n",
       "\n",
       "/* Common style for \"i\" and \"?\" */\n",
       "\n",
       ".sk-estimator-doc-link,\n",
       "a:link.sk-estimator-doc-link,\n",
       "a:visited.sk-estimator-doc-link {\n",
       "  float: right;\n",
       "  font-size: smaller;\n",
       "  line-height: 1em;\n",
       "  font-family: monospace;\n",
       "  background-color: var(--sklearn-color-background);\n",
       "  border-radius: 1em;\n",
       "  height: 1em;\n",
       "  width: 1em;\n",
       "  text-decoration: none !important;\n",
       "  margin-left: 1ex;\n",
       "  /* unfitted */\n",
       "  border: var(--sklearn-color-unfitted-level-1) 1pt solid;\n",
       "  color: var(--sklearn-color-unfitted-level-1);\n",
       "}\n",
       "\n",
       ".sk-estimator-doc-link.fitted,\n",
       "a:link.sk-estimator-doc-link.fitted,\n",
       "a:visited.sk-estimator-doc-link.fitted {\n",
       "  /* fitted */\n",
       "  border: var(--sklearn-color-fitted-level-1) 1pt solid;\n",
       "  color: var(--sklearn-color-fitted-level-1);\n",
       "}\n",
       "\n",
       "/* On hover */\n",
       "div.sk-estimator:hover .sk-estimator-doc-link:hover,\n",
       ".sk-estimator-doc-link:hover,\n",
       "div.sk-label-container:hover .sk-estimator-doc-link:hover,\n",
       ".sk-estimator-doc-link:hover {\n",
       "  /* unfitted */\n",
       "  background-color: var(--sklearn-color-unfitted-level-3);\n",
       "  color: var(--sklearn-color-background);\n",
       "  text-decoration: none;\n",
       "}\n",
       "\n",
       "div.sk-estimator.fitted:hover .sk-estimator-doc-link.fitted:hover,\n",
       ".sk-estimator-doc-link.fitted:hover,\n",
       "div.sk-label-container:hover .sk-estimator-doc-link.fitted:hover,\n",
       ".sk-estimator-doc-link.fitted:hover {\n",
       "  /* fitted */\n",
       "  background-color: var(--sklearn-color-fitted-level-3);\n",
       "  color: var(--sklearn-color-background);\n",
       "  text-decoration: none;\n",
       "}\n",
       "\n",
       "/* Span, style for the box shown on hovering the info icon */\n",
       ".sk-estimator-doc-link span {\n",
       "  display: none;\n",
       "  z-index: 9999;\n",
       "  position: relative;\n",
       "  font-weight: normal;\n",
       "  right: .2ex;\n",
       "  padding: .5ex;\n",
       "  margin: .5ex;\n",
       "  width: min-content;\n",
       "  min-width: 20ex;\n",
       "  max-width: 50ex;\n",
       "  color: var(--sklearn-color-text);\n",
       "  box-shadow: 2pt 2pt 4pt #999;\n",
       "  /* unfitted */\n",
       "  background: var(--sklearn-color-unfitted-level-0);\n",
       "  border: .5pt solid var(--sklearn-color-unfitted-level-3);\n",
       "}\n",
       "\n",
       ".sk-estimator-doc-link.fitted span {\n",
       "  /* fitted */\n",
       "  background: var(--sklearn-color-fitted-level-0);\n",
       "  border: var(--sklearn-color-fitted-level-3);\n",
       "}\n",
       "\n",
       ".sk-estimator-doc-link:hover span {\n",
       "  display: block;\n",
       "}\n",
       "\n",
       "/* \"?\"-specific style due to the `<a>` HTML tag */\n",
       "\n",
       "#sk-container-id-1 a.estimator_doc_link {\n",
       "  float: right;\n",
       "  font-size: 1rem;\n",
       "  line-height: 1em;\n",
       "  font-family: monospace;\n",
       "  background-color: var(--sklearn-color-background);\n",
       "  border-radius: 1rem;\n",
       "  height: 1rem;\n",
       "  width: 1rem;\n",
       "  text-decoration: none;\n",
       "  /* unfitted */\n",
       "  color: var(--sklearn-color-unfitted-level-1);\n",
       "  border: var(--sklearn-color-unfitted-level-1) 1pt solid;\n",
       "}\n",
       "\n",
       "#sk-container-id-1 a.estimator_doc_link.fitted {\n",
       "  /* fitted */\n",
       "  border: var(--sklearn-color-fitted-level-1) 1pt solid;\n",
       "  color: var(--sklearn-color-fitted-level-1);\n",
       "}\n",
       "\n",
       "/* On hover */\n",
       "#sk-container-id-1 a.estimator_doc_link:hover {\n",
       "  /* unfitted */\n",
       "  background-color: var(--sklearn-color-unfitted-level-3);\n",
       "  color: var(--sklearn-color-background);\n",
       "  text-decoration: none;\n",
       "}\n",
       "\n",
       "#sk-container-id-1 a.estimator_doc_link.fitted:hover {\n",
       "  /* fitted */\n",
       "  background-color: var(--sklearn-color-fitted-level-3);\n",
       "}\n",
       "</style><div id=\"sk-container-id-1\" class=\"sk-top-container\"><div class=\"sk-text-repr-fallback\"><pre>VotingClassifier(estimators=[(&#x27;knn&#x27;, KNeighborsClassifier(n_neighbors=3, p=1)),\n",
       "                             (&#x27;rf&#x27;,\n",
       "                              RandomForestClassifier(bootstrap=False,\n",
       "                                                     criterion=&#x27;entropy&#x27;,\n",
       "                                                     max_depth=5,\n",
       "                                                     min_samples_split=5,\n",
       "                                                     n_estimators=750)),\n",
       "                             (&#x27;svc&#x27;, SVC(C=0.75, gamma=2, probability=True))],\n",
       "                 voting=&#x27;soft&#x27;)</pre><b>In a Jupyter environment, please rerun this cell to show the HTML representation or trust the notebook. <br />On GitHub, the HTML representation is unable to render, please try loading this page with nbviewer.org.</b></div><div class=\"sk-container\" hidden><div class=\"sk-item sk-dashed-wrapped\"><div class=\"sk-label-container\"><div class=\"sk-label fitted sk-toggleable\"><input class=\"sk-toggleable__control sk-hidden--visually\" id=\"sk-estimator-id-1\" type=\"checkbox\" ><label for=\"sk-estimator-id-1\" class=\"sk-toggleable__label fitted sk-toggleable__label-arrow fitted\">&nbsp;&nbsp;VotingClassifier<a class=\"sk-estimator-doc-link fitted\" rel=\"noreferrer\" target=\"_blank\" href=\"https://scikit-learn.org/1.5/modules/generated/sklearn.ensemble.VotingClassifier.html\">?<span>Documentation for VotingClassifier</span></a><span class=\"sk-estimator-doc-link fitted\">i<span>Fitted</span></span></label><div class=\"sk-toggleable__content fitted\"><pre>VotingClassifier(estimators=[(&#x27;knn&#x27;, KNeighborsClassifier(n_neighbors=3, p=1)),\n",
       "                             (&#x27;rf&#x27;,\n",
       "                              RandomForestClassifier(bootstrap=False,\n",
       "                                                     criterion=&#x27;entropy&#x27;,\n",
       "                                                     max_depth=5,\n",
       "                                                     min_samples_split=5,\n",
       "                                                     n_estimators=750)),\n",
       "                             (&#x27;svc&#x27;, SVC(C=0.75, gamma=2, probability=True))],\n",
       "                 voting=&#x27;soft&#x27;)</pre></div> </div></div><div class=\"sk-parallel\"><div class=\"sk-parallel-item\"><div class=\"sk-item\"><div class=\"sk-label-container\"><div class=\"sk-label fitted sk-toggleable\"><label>knn</label></div></div><div class=\"sk-serial\"><div class=\"sk-item\"><div class=\"sk-estimator fitted sk-toggleable\"><input class=\"sk-toggleable__control sk-hidden--visually\" id=\"sk-estimator-id-2\" type=\"checkbox\" ><label for=\"sk-estimator-id-2\" class=\"sk-toggleable__label fitted sk-toggleable__label-arrow fitted\">&nbsp;KNeighborsClassifier<a class=\"sk-estimator-doc-link fitted\" rel=\"noreferrer\" target=\"_blank\" href=\"https://scikit-learn.org/1.5/modules/generated/sklearn.neighbors.KNeighborsClassifier.html\">?<span>Documentation for KNeighborsClassifier</span></a></label><div class=\"sk-toggleable__content fitted\"><pre>KNeighborsClassifier(n_neighbors=3, p=1)</pre></div> </div></div></div></div></div><div class=\"sk-parallel-item\"><div class=\"sk-item\"><div class=\"sk-label-container\"><div class=\"sk-label fitted sk-toggleable\"><label>rf</label></div></div><div class=\"sk-serial\"><div class=\"sk-item\"><div class=\"sk-estimator fitted sk-toggleable\"><input class=\"sk-toggleable__control sk-hidden--visually\" id=\"sk-estimator-id-3\" type=\"checkbox\" ><label for=\"sk-estimator-id-3\" class=\"sk-toggleable__label fitted sk-toggleable__label-arrow fitted\">&nbsp;RandomForestClassifier<a class=\"sk-estimator-doc-link fitted\" rel=\"noreferrer\" target=\"_blank\" href=\"https://scikit-learn.org/1.5/modules/generated/sklearn.ensemble.RandomForestClassifier.html\">?<span>Documentation for RandomForestClassifier</span></a></label><div class=\"sk-toggleable__content fitted\"><pre>RandomForestClassifier(bootstrap=False, criterion=&#x27;entropy&#x27;, max_depth=5,\n",
       "                       min_samples_split=5, n_estimators=750)</pre></div> </div></div></div></div></div><div class=\"sk-parallel-item\"><div class=\"sk-item\"><div class=\"sk-label-container\"><div class=\"sk-label fitted sk-toggleable\"><label>svc</label></div></div><div class=\"sk-serial\"><div class=\"sk-item\"><div class=\"sk-estimator fitted sk-toggleable\"><input class=\"sk-toggleable__control sk-hidden--visually\" id=\"sk-estimator-id-4\" type=\"checkbox\" ><label for=\"sk-estimator-id-4\" class=\"sk-toggleable__label fitted sk-toggleable__label-arrow fitted\">&nbsp;SVC<a class=\"sk-estimator-doc-link fitted\" rel=\"noreferrer\" target=\"_blank\" href=\"https://scikit-learn.org/1.5/modules/generated/sklearn.svm.SVC.html\">?<span>Documentation for SVC</span></a></label><div class=\"sk-toggleable__content fitted\"><pre>SVC(C=0.75, gamma=2, probability=True)</pre></div> </div></div></div></div></div></div></div></div></div>"
      ],
      "text/plain": [
       "VotingClassifier(estimators=[('knn', KNeighborsClassifier(n_neighbors=3, p=1)),\n",
       "                             ('rf',\n",
       "                              RandomForestClassifier(bootstrap=False,\n",
       "                                                     criterion='entropy',\n",
       "                                                     max_depth=5,\n",
       "                                                     min_samples_split=5,\n",
       "                                                     n_estimators=750)),\n",
       "                             ('svc', SVC(C=0.75, gamma=2, probability=True))],\n",
       "                 voting='soft')"
      ]
     },
     "execution_count": 49,
     "metadata": {},
     "output_type": "execute_result"
    }
   ],
   "source": [
    "#I train the models on a subset of the training dataset.\n",
    "svc_final.fit(X_train_split, y_train_split)\n",
    "rf_final.fit(X_train_split, y_train_split)\n",
    "vot_hard.fit(X_train_split, y_train_split)\n",
    "vot_soft.fit(X_train_split, y_train_split)"
   ]
  },
  {
   "cell_type": "code",
   "execution_count": 50,
   "metadata": {},
   "outputs": [],
   "source": [
    "# make predictions on the held-out validation set.\n",
    "y_pred_prob_rf = rf_final.predict_proba(X_validation)[:,1]\n",
    "y_pred_rf = rf_final.predict(X_validation)\n",
    "y_pred_prob_svc = svc_final.predict_proba(X_validation)[:,1]\n",
    "y_pred_svc = svc_final.predict(X_validation)\n",
    "y_pred_prob_vc_soft = vot_soft.predict_proba(X_validation)[:,1]\n",
    "y_pred_vc_soft = vot_soft.predict(X_validation)\n",
    "y_pred_vc_hard = vot_hard.predict(X_validation)"
   ]
  },
  {
   "cell_type": "code",
   "execution_count": 51,
   "metadata": {},
   "outputs": [
    {
     "data": {
      "image/png": "[encoded data removed]",
      "text/plain": [
       "<Figure size 640x480 with 1 Axes>"
      ]
     },
     "metadata": {},
     "output_type": "display_data"
    },
    {
     "name": "stdout",
     "output_type": "stream",
     "text": [
      "AUC Score:  0.780306905370844\n"
     ]
    }
   ],
   "source": [
    "fper, tper, thresholds = roc_curve(y_validation, y_pred_prob_rf) \n",
    "plt.plot(fper, tper, color='blue', label='ROC')\n",
    "plt.plot([0, 1], [0, 1], color='darkblue', linestyle='--')\n",
    "plt.xlabel('False Positive Rate')\n",
    "plt.ylabel('True Positive Rate')\n",
    "plt.title('ROC Curve - Random Forest')\n",
    "plt.legend()\n",
    "plt.show()\n",
    "auc_rf = roc_auc_score(y_validation, y_pred_rf)\n",
    "print(\"AUC Score: \", auc_rf)"
   ]
  },
  {
   "cell_type": "code",
   "execution_count": 52,
   "metadata": {},
   "outputs": [
    {
     "data": {
      "image/png": "[encoded data removed]",
      "text/plain": [
       "<Figure size 640x480 with 1 Axes>"
      ]
     },
     "metadata": {},
     "output_type": "display_data"
    },
    {
     "name": "stdout",
     "output_type": "stream",
     "text": [
      "AUC Score:  0.7824950269963059\n"
     ]
    }
   ],
   "source": [
    "fper, tper, thresholds = roc_curve(y_validation, y_pred_prob_svc) \n",
    "plt.plot(fper, tper, color='blue', label='ROC')\n",
    "plt.plot([0, 1], [0, 1], color='darkblue', linestyle='--')\n",
    "plt.xlabel('False Positive Rate')\n",
    "plt.ylabel('True Positive Rate')\n",
    "plt.title('ROC Curve - Support Vector Machine')\n",
    "plt.legend()\n",
    "plt.show()\n",
    "auc_svc = roc_auc_score(y_validation, y_pred_svc)\n",
    "print(\"AUC Score: \", auc_svc)"
   ]
  },
  {
   "cell_type": "code",
   "execution_count": 53,
   "metadata": {},
   "outputs": [
    {
     "data": {
      "image/png": "[encoded data removed]",
      "text/plain": [
       "<Figure size 640x480 with 1 Axes>"
      ]
     },
     "metadata": {},
     "output_type": "display_data"
    },
    {
     "name": "stdout",
     "output_type": "stream",
     "text": [
      "AUC Score:  0.7781472009093493\n"
     ]
    }
   ],
   "source": [
    "fper, tper, thresholds = roc_curve(y_validation, y_pred_prob_vc_soft) \n",
    "plt.plot(fper, tper, color='blue', label='ROC')\n",
    "plt.plot([0, 1], [0, 1], color='darkblue', linestyle='--')\n",
    "plt.xlabel('False Positive Rate')\n",
    "plt.ylabel('True Positive Rate')\n",
    "plt.title('ROC Curve - Voting Classifier Soft')\n",
    "plt.legend()\n",
    "plt.show()\n",
    "auc_vc_soft = roc_auc_score(y_validation, y_pred_vc_soft)\n",
    "print(\"AUC Score: \", auc_vc_soft)"
   ]
  },
  {
   "cell_type": "code",
   "execution_count": 54,
   "metadata": {},
   "outputs": [
    {
     "name": "stdout",
     "output_type": "stream",
     "text": [
      "AUC Score:  0.7868428530832624\n"
     ]
    }
   ],
   "source": [
    "auc_vc_hard = roc_auc_score(y_validation, y_pred_vc_hard)\n",
    "print(\"AUC Score: \", auc_vc_hard)"
   ]
  },
  {
   "cell_type": "code",
   "execution_count": 55,
   "metadata": {},
   "outputs": [
    {
     "data": {
      "image/png": "[encoded data removed]",
      "text/plain": [
       "<Figure size 640x480 with 1 Axes>"
      ]
     },
     "metadata": {},
     "output_type": "display_data"
    }
   ],
   "source": [
    "confusion_matrix_rf = confusion_matrix(y_true=y_validation, y_pred=y_pred_rf)\n",
    "plt.clf()\n",
    "plt.imshow(confusion_matrix_rf, interpolation='nearest', cmap=plt.cm.Blues)\n",
    "classNames = ['Deceased','Survivor']\n",
    "plt.title('Confusion Matrix - Random Forest')\n",
    "plt.ylabel('True Label')\n",
    "plt.xlabel('Predicted')\n",
    "tick_marks = np.arange(len(classNames))\n",
    "plt.xticks(tick_marks, classNames, rotation=45)\n",
    "plt.yticks(tick_marks, classNames)\n",
    "s = [['TN','FP'], ['FN', 'TP']]\n",
    "for i in range(2):\n",
    "    for j in range(2):\n",
    "        plt.text(j,i, str(s[i][j])+\" = \"+str(confusion_matrix_rf[i][j]))\n",
    "plt.show()"
   ]
  },
  {
   "cell_type": "code",
   "execution_count": 56,
   "metadata": {},
   "outputs": [
    {
     "data": {
      "image/png": "[encoded data removed]",
      "text/plain": [
       "<Figure size 640x480 with 1 Axes>"
      ]
     },
     "metadata": {},
     "output_type": "display_data"
    }
   ],
   "source": [
    "confusion_matrix_svc = confusion_matrix(y_true=y_validation, y_pred=y_pred_svc)\n",
    "plt.clf()\n",
    "plt.imshow(confusion_matrix_svc, interpolation='nearest', cmap=plt.cm.Blues)\n",
    "classNames = ['Deceased','Survivor']\n",
    "plt.title('Confusion Matrix - Support Vector Machine')\n",
    "plt.ylabel('True Label')\n",
    "plt.xlabel('Predicted')\n",
    "tick_marks = np.arange(len(classNames))\n",
    "plt.xticks(tick_marks, classNames, rotation=45)\n",
    "plt.yticks(tick_marks, classNames)\n",
    "s = [['TN','FP'], ['FN', 'TP']]\n",
    "for i in range(2):\n",
    "    for j in range(2):\n",
    "        plt.text(j,i, str(s[i][j])+\" = \"+str(confusion_matrix_svc[i][j]))\n",
    "plt.show()"
   ]
  },
  {
   "cell_type": "code",
   "execution_count": 57,
   "metadata": {},
   "outputs": [
    {
     "data": {
      "image/png": "[encoded data removed]",
      "text/plain": [
       "<Figure size 640x480 with 1 Axes>"
      ]
     },
     "metadata": {},
     "output_type": "display_data"
    }
   ],
   "source": [
    "confusion_matrix_vc_soft = confusion_matrix(y_true=y_validation, y_pred=y_pred_vc_soft)\n",
    "plt.subplot(1,2,1)\n",
    "plt.clf()\n",
    "plt.imshow(confusion_matrix_vc_soft, interpolation='nearest', cmap=plt.cm.Blues)\n",
    "classNames = ['Deceased','Survivor']\n",
    "plt.title('Confusion Matrix - Voting Classifier Soft')\n",
    "plt.ylabel('True Label')\n",
    "plt.xlabel('Predicted')\n",
    "tick_marks = np.arange(len(classNames))\n",
    "plt.xticks(tick_marks, classNames, rotation=45)\n",
    "plt.yticks(tick_marks, classNames)\n",
    "s = [['TN','FP'], ['FN', 'TP']]\n",
    "for i in range(2):\n",
    "    for j in range(2):\n",
    "        plt.text(j,i, str(s[i][j])+\" = \"+str(confusion_matrix_vc_soft[i][j]))\n",
    "plt.show()"
   ]
  },
  {
   "cell_type": "code",
   "execution_count": 58,
   "metadata": {},
   "outputs": [
    {
     "data": {
      "image/png": "[encoded data removed]",
      "text/plain": [
       "<Figure size 640x480 with 1 Axes>"
      ]
     },
     "metadata": {},
     "output_type": "display_data"
    }
   ],
   "source": [
    "confuaion_matrix_vc_hard = confusion_matrix(y_true=y_validation, y_pred=y_pred_vc_hard)\n",
    "plt.clf()\n",
    "plt.imshow(confuaion_matrix_vc_hard, interpolation='nearest', cmap=plt.cm.Blues)\n",
    "classNames = ['Deceased','Survivor']\n",
    "plt.title('Confusion Matrix - Voting Classifier Hard')\n",
    "plt.ylabel('True Label')\n",
    "plt.xlabel('Predicted')\n",
    "tick_marks = np.arange(len(classNames))\n",
    "plt.xticks(tick_marks, classNames, rotation=45)\n",
    "plt.yticks(tick_marks, classNames)\n",
    "s = [['TN','FP'], ['FN', 'TP']]\n",
    "for i in range(2):\n",
    "    for j in range(2):\n",
    "        plt.text(j,i, str(s[i][j])+\" = \"+str(confuaion_matrix_vc_hard[i][j]))\n",
    "plt.show()"
   ]
  },
  {
   "cell_type": "code",
   "execution_count": 59,
   "metadata": {},
   "outputs": [
    {
     "name": "stdout",
     "output_type": "stream",
     "text": [
      "The accuracy of the Random Forest model is: 0.812\n",
      "The recall of the Random Forest model is: 0.678\n",
      "The F1 score of the Random Forest model is: 0.739\n"
     ]
    }
   ],
   "source": [
    "print('The accuracy of the Random Forest model is: %.3f' % precision_score(y_validation, y_pred_rf))\n",
    "print('The recall of the Random Forest model is: %.3f' % recall_score(y_validation, y_pred_rf))\n",
    "print('The F1 score of the Random Forest model is: %.3f' % f1_score(y_validation, y_pred_rf))"
   ]
  },
  {
   "cell_type": "code",
   "execution_count": 60,
   "metadata": {},
   "outputs": [
    {
     "name": "stdout",
     "output_type": "stream",
     "text": [
      "The accuracy of the Support Vector Machine model is: 0.828\n",
      "The recall of the Support Vector Machine model is: 0.670\n",
      "The F1 score of the Support Vector Machine model is: 0.740\n"
     ]
    }
   ],
   "source": [
    "print('The accuracy of the Support Vector Machine model is: %.3f' % precision_score(y_validation, y_pred_svc))\n",
    "print('The recall of the Support Vector Machine model is: %.3f' % recall_score(y_validation, y_pred_svc))\n",
    "print('The F1 score of the Support Vector Machine model is: %.3f' % f1_score(y_validation, y_pred_svc))"
   ]
  },
  {
   "cell_type": "code",
   "execution_count": 61,
   "metadata": {},
   "outputs": [
    {
     "name": "stdout",
     "output_type": "stream",
     "text": [
      "The accuracy of the Hard Voting model is: 0.830\n",
      "The recall of the Hard Voting model is: 0.678\n",
      "The F1 score of the Hard Voting model is: 0.746\n"
     ]
    }
   ],
   "source": [
    "print('The accuracy of the Hard Voting model is: %.3f' % precision_score(y_validation, y_pred_vc_hard))\n",
    "print('The recall of the Hard Voting model is: %.3f' % recall_score(y_validation, y_pred_vc_hard))\n",
    "print('The F1 score of the Hard Voting model is: %.3f' % f1_score(y_validation, y_pred_vc_hard))"
   ]
  },
  {
   "cell_type": "code",
   "execution_count": 62,
   "metadata": {},
   "outputs": [
    {
     "name": "stdout",
     "output_type": "stream",
     "text": [
      "The accuracy of the Soft Voting model is: 0.826\n",
      "The recall of the Soft Voting model is: 0.661\n",
      "The F1 score of the Soft Voting model is: 0.734\n"
     ]
    }
   ],
   "source": [
    "print('The accuracy of the Soft Voting model is: %.3f' % precision_score(y_validation, y_pred_vc_soft))\n",
    "print('The recall of the Soft Voting model is: %.3f' % recall_score(y_validation, y_pred_vc_soft))\n",
    "print('The F1 score of the Soft Voting model is: %.3f' % f1_score(y_validation, y_pred_vc_soft))"
   ]
  },
  {
   "cell_type": "code",
   "execution_count": 63,
   "metadata": {},
   "outputs": [],
   "source": [
    "knn_final = knn.best_estimator_\n",
    "svc_final = svc.best_estimator_\n",
    "rf_final = rf.best_estimator_"
   ]
  },
  {
   "cell_type": "code",
   "execution_count": 64,
   "metadata": {},
   "outputs": [
    {
     "data": {
      "text/html": [
       "<style>#sk-container-id-2 {\n",
       "  /* Definition of color scheme common for light and dark mode */\n",
       "  --sklearn-color-text: black;\n",
       "  --sklearn-color-line: gray;\n",
       "  /* Definition of color scheme for unfitted estimators */\n",
       "  --sklearn-color-unfitted-level-0: #fff5e6;\n",
       "  --sklearn-color-unfitted-level-1: #f6e4d2;\n",
       "  --sklearn-color-unfitted-level-2: #ffe0b3;\n",
       "  --sklearn-color-unfitted-level-3: chocolate;\n",
       "  /* Definition of color scheme for fitted estimators */\n",
       "  --sklearn-color-fitted-level-0: #f0f8ff;\n",
       "  --sklearn-color-fitted-level-1: #d4ebff;\n",
       "  --sklearn-color-fitted-level-2: #b3dbfd;\n",
       "  --sklearn-color-fitted-level-3: cornflowerblue;\n",
       "\n",
       "  /* Specific color for light theme */\n",
       "  --sklearn-color-text-on-default-background: var(--sg-text-color, var(--theme-code-foreground, var(--jp-content-font-color1, black)));\n",
       "  --sklearn-color-background: var(--sg-background-color, var(--theme-background, var(--jp-layout-color0, white)));\n",
       "  --sklearn-color-border-box: var(--sg-text-color, var(--theme-code-foreground, var(--jp-content-font-color1, black)));\n",
       "  --sklearn-color-icon: #696969;\n",
       "\n",
       "  @media (prefers-color-scheme: dark) {\n",
       "    /* Redefinition of color scheme for dark theme */\n",
       "    --sklearn-color-text-on-default-background: var(--sg-text-color, var(--theme-code-foreground, var(--jp-content-font-color1, white)));\n",
       "    --sklearn-color-background: var(--sg-background-color, var(--theme-background, var(--jp-layout-color0, #111)));\n",
       "    --sklearn-color-border-box: var(--sg-text-color, var(--theme-code-foreground, var(--jp-content-font-color1, white)));\n",
       "    --sklearn-color-icon: #878787;\n",
       "  }\n",
       "}\n",
       "\n",
       "#sk-container-id-2 {\n",
       "  color: var(--sklearn-color-text);\n",
       "}\n",
       "\n",
       "#sk-container-id-2 pre {\n",
       "  padding: 0;\n",
       "}\n",
       "\n",
       "#sk-container-id-2 input.sk-hidden--visually {\n",
       "  border: 0;\n",
       "  clip: rect(1px 1px 1px 1px);\n",
       "  clip: rect(1px, 1px, 1px, 1px);\n",
       "  height: 1px;\n",
       "  margin: -1px;\n",
       "  overflow: hidden;\n",
       "  padding: 0;\n",
       "  position: absolute;\n",
       "  width: 1px;\n",
       "}\n",
       "\n",
       "#sk-container-id-2 div.sk-dashed-wrapped {\n",
       "  border: 1px dashed var(--sklearn-color-line);\n",
       "  margin: 0 0.4em 0.5em 0.4em;\n",
       "  box-sizing: border-box;\n",
       "  padding-bottom: 0.4em;\n",
       "  background-color: var(--sklearn-color-background);\n",
       "}\n",
       "\n",
       "#sk-container-id-2 div.sk-container {\n",
       "  /* jupyter's `normalize.less` sets `[hidden] { display: none; }`\n",
       "     but bootstrap.min.css set `[hidden] { display: none !important; }`\n",
       "     so we also need the `!important` here to be able to override the\n",
       "     default hidden behavior on the sphinx rendered scikit-learn.org.\n",
       "     See: https://github.com/scikit-learn/scikit-learn/issues/21755 */\n",
       "  display: inline-block !important;\n",
       "  position: relative;\n",
       "}\n",
       "\n",
       "#sk-container-id-2 div.sk-text-repr-fallback {\n",
       "  display: none;\n",
       "}\n",
       "\n",
       "div.sk-parallel-item,\n",
       "div.sk-serial,\n",
       "div.sk-item {\n",
       "  /* draw centered vertical line to link estimators */\n",
       "  background-image: linear-gradient(var(--sklearn-color-text-on-default-background), var(--sklearn-color-text-on-default-background));\n",
       "  background-size: 2px 100%;\n",
       "  background-repeat: no-repeat;\n",
       "  background-position: center center;\n",
       "}\n",
       "\n",
       "/* Parallel-specific style estimator block */\n",
       "\n",
       "#sk-container-id-2 div.sk-parallel-item::after {\n",
       "  content: \"\";\n",
       "  width: 100%;\n",
       "  border-bottom: 2px solid var(--sklearn-color-text-on-default-background);\n",
       "  flex-grow: 1;\n",
       "}\n",
       "\n",
       "#sk-container-id-2 div.sk-parallel {\n",
       "  display: flex;\n",
       "  align-items: stretch;\n",
       "  justify-content: center;\n",
       "  background-color: var(--sklearn-color-background);\n",
       "  position: relative;\n",
       "}\n",
       "\n",
       "#sk-container-id-2 div.sk-parallel-item {\n",
       "  display: flex;\n",
       "  flex-direction: column;\n",
       "}\n",
       "\n",
       "#sk-container-id-2 div.sk-parallel-item:first-child::after {\n",
       "  align-self: flex-end;\n",
       "  width: 50%;\n",
       "}\n",
       "\n",
       "#sk-container-id-2 div.sk-parallel-item:last-child::after {\n",
       "  align-self: flex-start;\n",
       "  width: 50%;\n",
       "}\n",
       "\n",
       "#sk-container-id-2 div.sk-parallel-item:only-child::after {\n",
       "  width: 0;\n",
       "}\n",
       "\n",
       "/* Serial-specific style estimator block */\n",
       "\n",
       "#sk-container-id-2 div.sk-serial {\n",
       "  display: flex;\n",
       "  flex-direction: column;\n",
       "  align-items: center;\n",
       "  background-color: var(--sklearn-color-background);\n",
       "  padding-right: 1em;\n",
       "  padding-left: 1em;\n",
       "}\n",
       "\n",
       "\n",
       "/* Toggleable style: style used for estimator/Pipeline/ColumnTransformer box that is\n",
       "clickable and can be expanded/collapsed.\n",
       "- Pipeline and ColumnTransformer use this feature and define the default style\n",
       "- Estimators will overwrite some part of the style using the `sk-estimator` class\n",
       "*/\n",
       "\n",
       "/* Pipeline and ColumnTransformer style (default) */\n",
       "\n",
       "#sk-container-id-2 div.sk-toggleable {\n",
       "  /* Default theme specific background. It is overwritten whether we have a\n",
       "  specific estimator or a Pipeline/ColumnTransformer */\n",
       "  background-color: var(--sklearn-color-background);\n",
       "}\n",
       "\n",
       "/* Toggleable label */\n",
       "#sk-container-id-2 label.sk-toggleable__label {\n",
       "  cursor: pointer;\n",
       "  display: block;\n",
       "  width: 100%;\n",
       "  margin-bottom: 0;\n",
       "  padding: 0.5em;\n",
       "  box-sizing: border-box;\n",
       "  text-align: center;\n",
       "}\n",
       "\n",
       "#sk-container-id-2 label.sk-toggleable__label-arrow:before {\n",
       "  /* Arrow on the left of the label */\n",
       "  content: \"▸\";\n",
       "  float: left;\n",
       "  margin-right: 0.25em;\n",
       "  color: var(--sklearn-color-icon);\n",
       "}\n",
       "\n",
       "#sk-container-id-2 label.sk-toggleable__label-arrow:hover:before {\n",
       "  color: var(--sklearn-color-text);\n",
       "}\n",
       "\n",
       "/* Toggleable content - dropdown */\n",
       "\n",
       "#sk-container-id-2 div.sk-toggleable__content {\n",
       "  max-height: 0;\n",
       "  max-width: 0;\n",
       "  overflow: hidden;\n",
       "  text-align: left;\n",
       "  /* unfitted */\n",
       "  background-color: var(--sklearn-color-unfitted-level-0);\n",
       "}\n",
       "\n",
       "#sk-container-id-2 div.sk-toggleable__content.fitted {\n",
       "  /* fitted */\n",
       "  background-color: var(--sklearn-color-fitted-level-0);\n",
       "}\n",
       "\n",
       "#sk-container-id-2 div.sk-toggleable__content pre {\n",
       "  margin: 0.2em;\n",
       "  border-radius: 0.25em;\n",
       "  color: var(--sklearn-color-text);\n",
       "  /* unfitted */\n",
       "  background-color: var(--sklearn-color-unfitted-level-0);\n",
       "}\n",
       "\n",
       "#sk-container-id-2 div.sk-toggleable__content.fitted pre {\n",
       "  /* unfitted */\n",
       "  background-color: var(--sklearn-color-fitted-level-0);\n",
       "}\n",
       "\n",
       "#sk-container-id-2 input.sk-toggleable__control:checked~div.sk-toggleable__content {\n",
       "  /* Expand drop-down */\n",
       "  max-height: 200px;\n",
       "  max-width: 100%;\n",
       "  overflow: auto;\n",
       "}\n",
       "\n",
       "#sk-container-id-2 input.sk-toggleable__control:checked~label.sk-toggleable__label-arrow:before {\n",
       "  content: \"▾\";\n",
       "}\n",
       "\n",
       "/* Pipeline/ColumnTransformer-specific style */\n",
       "\n",
       "#sk-container-id-2 div.sk-label input.sk-toggleable__control:checked~label.sk-toggleable__label {\n",
       "  color: var(--sklearn-color-text);\n",
       "  background-color: var(--sklearn-color-unfitted-level-2);\n",
       "}\n",
       "\n",
       "#sk-container-id-2 div.sk-label.fitted input.sk-toggleable__control:checked~label.sk-toggleable__label {\n",
       "  background-color: var(--sklearn-color-fitted-level-2);\n",
       "}\n",
       "\n",
       "/* Estimator-specific style */\n",
       "\n",
       "/* Colorize estimator box */\n",
       "#sk-container-id-2 div.sk-estimator input.sk-toggleable__control:checked~label.sk-toggleable__label {\n",
       "  /* unfitted */\n",
       "  background-color: var(--sklearn-color-unfitted-level-2);\n",
       "}\n",
       "\n",
       "#sk-container-id-2 div.sk-estimator.fitted input.sk-toggleable__control:checked~label.sk-toggleable__label {\n",
       "  /* fitted */\n",
       "  background-color: var(--sklearn-color-fitted-level-2);\n",
       "}\n",
       "\n",
       "#sk-container-id-2 div.sk-label label.sk-toggleable__label,\n",
       "#sk-container-id-2 div.sk-label label {\n",
       "  /* The background is the default theme color */\n",
       "  color: var(--sklearn-color-text-on-default-background);\n",
       "}\n",
       "\n",
       "/* On hover, darken the color of the background */\n",
       "#sk-container-id-2 div.sk-label:hover label.sk-toggleable__label {\n",
       "  color: var(--sklearn-color-text);\n",
       "  background-color: var(--sklearn-color-unfitted-level-2);\n",
       "}\n",
       "\n",
       "/* Label box, darken color on hover, fitted */\n",
       "#sk-container-id-2 div.sk-label.fitted:hover label.sk-toggleable__label.fitted {\n",
       "  color: var(--sklearn-color-text);\n",
       "  background-color: var(--sklearn-color-fitted-level-2);\n",
       "}\n",
       "\n",
       "/* Estimator label */\n",
       "\n",
       "#sk-container-id-2 div.sk-label label {\n",
       "  font-family: monospace;\n",
       "  font-weight: bold;\n",
       "  display: inline-block;\n",
       "  line-height: 1.2em;\n",
       "}\n",
       "\n",
       "#sk-container-id-2 div.sk-label-container {\n",
       "  text-align: center;\n",
       "}\n",
       "\n",
       "/* Estimator-specific */\n",
       "#sk-container-id-2 div.sk-estimator {\n",
       "  font-family: monospace;\n",
       "  border: 1px dotted var(--sklearn-color-border-box);\n",
       "  border-radius: 0.25em;\n",
       "  box-sizing: border-box;\n",
       "  margin-bottom: 0.5em;\n",
       "  /* unfitted */\n",
       "  background-color: var(--sklearn-color-unfitted-level-0);\n",
       "}\n",
       "\n",
       "#sk-container-id-2 div.sk-estimator.fitted {\n",
       "  /* fitted */\n",
       "  background-color: var(--sklearn-color-fitted-level-0);\n",
       "}\n",
       "\n",
       "/* on hover */\n",
       "#sk-container-id-2 div.sk-estimator:hover {\n",
       "  /* unfitted */\n",
       "  background-color: var(--sklearn-color-unfitted-level-2);\n",
       "}\n",
       "\n",
       "#sk-container-id-2 div.sk-estimator.fitted:hover {\n",
       "  /* fitted */\n",
       "  background-color: var(--sklearn-color-fitted-level-2);\n",
       "}\n",
       "\n",
       "/* Specification for estimator info (e.g. \"i\" and \"?\") */\n",
       "\n",
       "/* Common style for \"i\" and \"?\" */\n",
       "\n",
       ".sk-estimator-doc-link,\n",
       "a:link.sk-estimator-doc-link,\n",
       "a:visited.sk-estimator-doc-link {\n",
       "  float: right;\n",
       "  font-size: smaller;\n",
       "  line-height: 1em;\n",
       "  font-family: monospace;\n",
       "  background-color: var(--sklearn-color-background);\n",
       "  border-radius: 1em;\n",
       "  height: 1em;\n",
       "  width: 1em;\n",
       "  text-decoration: none !important;\n",
       "  margin-left: 1ex;\n",
       "  /* unfitted */\n",
       "  border: var(--sklearn-color-unfitted-level-1) 1pt solid;\n",
       "  color: var(--sklearn-color-unfitted-level-1);\n",
       "}\n",
       "\n",
       ".sk-estimator-doc-link.fitted,\n",
       "a:link.sk-estimator-doc-link.fitted,\n",
       "a:visited.sk-estimator-doc-link.fitted {\n",
       "  /* fitted */\n",
       "  border: var(--sklearn-color-fitted-level-1) 1pt solid;\n",
       "  color: var(--sklearn-color-fitted-level-1);\n",
       "}\n",
       "\n",
       "/* On hover */\n",
       "div.sk-estimator:hover .sk-estimator-doc-link:hover,\n",
       ".sk-estimator-doc-link:hover,\n",
       "div.sk-label-container:hover .sk-estimator-doc-link:hover,\n",
       ".sk-estimator-doc-link:hover {\n",
       "  /* unfitted */\n",
       "  background-color: var(--sklearn-color-unfitted-level-3);\n",
       "  color: var(--sklearn-color-background);\n",
       "  text-decoration: none;\n",
       "}\n",
       "\n",
       "div.sk-estimator.fitted:hover .sk-estimator-doc-link.fitted:hover,\n",
       ".sk-estimator-doc-link.fitted:hover,\n",
       "div.sk-label-container:hover .sk-estimator-doc-link.fitted:hover,\n",
       ".sk-estimator-doc-link.fitted:hover {\n",
       "  /* fitted */\n",
       "  background-color: var(--sklearn-color-fitted-level-3);\n",
       "  color: var(--sklearn-color-background);\n",
       "  text-decoration: none;\n",
       "}\n",
       "\n",
       "/* Span, style for the box shown on hovering the info icon */\n",
       ".sk-estimator-doc-link span {\n",
       "  display: none;\n",
       "  z-index: 9999;\n",
       "  position: relative;\n",
       "  font-weight: normal;\n",
       "  right: .2ex;\n",
       "  padding: .5ex;\n",
       "  margin: .5ex;\n",
       "  width: min-content;\n",
       "  min-width: 20ex;\n",
       "  max-width: 50ex;\n",
       "  color: var(--sklearn-color-text);\n",
       "  box-shadow: 2pt 2pt 4pt #999;\n",
       "  /* unfitted */\n",
       "  background: var(--sklearn-color-unfitted-level-0);\n",
       "  border: .5pt solid var(--sklearn-color-unfitted-level-3);\n",
       "}\n",
       "\n",
       ".sk-estimator-doc-link.fitted span {\n",
       "  /* fitted */\n",
       "  background: var(--sklearn-color-fitted-level-0);\n",
       "  border: var(--sklearn-color-fitted-level-3);\n",
       "}\n",
       "\n",
       ".sk-estimator-doc-link:hover span {\n",
       "  display: block;\n",
       "}\n",
       "\n",
       "/* \"?\"-specific style due to the `<a>` HTML tag */\n",
       "\n",
       "#sk-container-id-2 a.estimator_doc_link {\n",
       "  float: right;\n",
       "  font-size: 1rem;\n",
       "  line-height: 1em;\n",
       "  font-family: monospace;\n",
       "  background-color: var(--sklearn-color-background);\n",
       "  border-radius: 1rem;\n",
       "  height: 1rem;\n",
       "  width: 1rem;\n",
       "  text-decoration: none;\n",
       "  /* unfitted */\n",
       "  color: var(--sklearn-color-unfitted-level-1);\n",
       "  border: var(--sklearn-color-unfitted-level-1) 1pt solid;\n",
       "}\n",
       "\n",
       "#sk-container-id-2 a.estimator_doc_link.fitted {\n",
       "  /* fitted */\n",
       "  border: var(--sklearn-color-fitted-level-1) 1pt solid;\n",
       "  color: var(--sklearn-color-fitted-level-1);\n",
       "}\n",
       "\n",
       "/* On hover */\n",
       "#sk-container-id-2 a.estimator_doc_link:hover {\n",
       "  /* unfitted */\n",
       "  background-color: var(--sklearn-color-unfitted-level-3);\n",
       "  color: var(--sklearn-color-background);\n",
       "  text-decoration: none;\n",
       "}\n",
       "\n",
       "#sk-container-id-2 a.estimator_doc_link.fitted:hover {\n",
       "  /* fitted */\n",
       "  background-color: var(--sklearn-color-fitted-level-3);\n",
       "}\n",
       "</style><div id=\"sk-container-id-2\" class=\"sk-top-container\"><div class=\"sk-text-repr-fallback\"><pre>KNeighborsClassifier(n_neighbors=3, p=1)</pre><b>In a Jupyter environment, please rerun this cell to show the HTML representation or trust the notebook. <br />On GitHub, the HTML representation is unable to render, please try loading this page with nbviewer.org.</b></div><div class=\"sk-container\" hidden><div class=\"sk-item\"><div class=\"sk-estimator fitted sk-toggleable\"><input class=\"sk-toggleable__control sk-hidden--visually\" id=\"sk-estimator-id-5\" type=\"checkbox\" checked><label for=\"sk-estimator-id-5\" class=\"sk-toggleable__label fitted sk-toggleable__label-arrow fitted\">&nbsp;&nbsp;KNeighborsClassifier<a class=\"sk-estimator-doc-link fitted\" rel=\"noreferrer\" target=\"_blank\" href=\"https://scikit-learn.org/1.5/modules/generated/sklearn.neighbors.KNeighborsClassifier.html\">?<span>Documentation for KNeighborsClassifier</span></a><span class=\"sk-estimator-doc-link fitted\">i<span>Fitted</span></span></label><div class=\"sk-toggleable__content fitted\"><pre>KNeighborsClassifier(n_neighbors=3, p=1)</pre></div> </div></div></div></div>"
      ],
      "text/plain": [
       "KNeighborsClassifier(n_neighbors=3, p=1)"
      ]
     },
     "execution_count": 64,
     "metadata": {},
     "output_type": "execute_result"
    }
   ],
   "source": [
    "#I train the models on the entire training dataset.\n",
    "svc_final.fit(X_train, y_train)\n",
    "rf_final.fit(X_train, y_train)\n",
    "vot_hard.fit(X_train, y_train)\n",
    "vot_soft.fit(X_train, y_train)\n",
    "knn_final.fit(X_train, y_train)"
   ]
  },
  {
   "cell_type": "code",
   "execution_count": 65,
   "metadata": {},
   "outputs": [
    {
     "name": "stdout",
     "output_type": "stream",
     "text": [
      "name        score\n",
      "Title   0.320072\n",
      "Sex     0.265658\n",
      "Pclass  0.157166\n",
      "Fare    0.0901044\n",
      "Age     0.0737375\n",
      "SibSp   0.0623934\n",
      "Parch   0.0308693\n"
     ]
    }
   ],
   "source": [
    "from tabulate import tabulate\n",
    "headers = [\"name\", \"score\"]\n",
    "values = sorted(zip(pd.DataFrame(X_train, columns = final_columns).columns, rf_final.feature_importances_), key=lambda x: x[1] * -1)\n",
    "print(tabulate(values, headers, tablefmt=\"plain\"))"
   ]
  },
  {
   "cell_type": "code",
   "execution_count": 66,
   "metadata": {},
   "outputs": [
    {
     "name": "stdout",
     "output_type": "stream",
     "text": [
      "[[1.         0.         0.44736842 ... 0.         0.33333333 0.        ]\n",
      " [1.         1.         0.61842105 ... 0.         0.33333333 0.5       ]\n",
      " [0.5        0.         0.81578947 ... 0.         0.33333333 0.        ]\n",
      " ...\n",
      " [1.         0.         0.5        ... 0.         0.33333333 0.        ]\n",
      " [1.         0.         0.5        ... 0.         0.33333333 0.        ]\n",
      " [1.         0.         0.5        ... 0.11111111 0.5        0.75      ]]\n",
      "[[1.         0.         0.275      ... 0.         0.33333333 0.        ]\n",
      " [0.         1.         0.475      ... 0.         0.66666667 0.5       ]\n",
      " [1.         1.         0.325      ... 0.         0.33333333 0.25      ]\n",
      " ...\n",
      " [1.         1.         0.2375     ... 0.33333333 0.5        0.25      ]\n",
      " [0.         0.         0.325      ... 0.         0.5        0.        ]\n",
      " [1.         0.         0.4        ... 0.         0.33333333 0.        ]]\n"
     ]
    }
   ],
   "source": [
    "predictions_y_rf = rf_final.predict(X_test).astype(int)\n",
    "predictions_y_svc = svc_final.predict(X_test).astype(int)\n",
    "predictions_y_knn = knn_final.predict(X_test).astype(int)\n",
    "predictions_y_vc_soft =  vot_soft.predict(X_test).astype(int)\n",
    "predictions_y_vc_hard = vot_hard.predict(X_test).astype(int)\n"
   ]
  },
  {
   "cell_type": "code",
   "execution_count": 68,
   "metadata": {},
   "outputs": [],
   "source": [
    "predictii_1 = {'PassengerId': test_data.PassengerId, 'Survived': predictions_y_rf}\n",
    "submission = pd.DataFrame(data=predictii_1)\n",
    "\n",
    "predictii_2 = {'PassengerId': test_data.PassengerId, 'Survived': predictions_y_vc_hard}\n",
    "submission_2 = pd.DataFrame(data=predictii_2)\n",
    "\n",
    "predictii_3 = {'PassengerId': test_data.PassengerId, 'Survived': predictions_y_vc_soft}\n",
    "submission_3 = pd.DataFrame(data=predictii_3)\n",
    "\n",
    "predictii_4 = {'PassengerId': test_data.PassengerId, 'Survived': predictions_y_svc}\n",
    "submission_4 = pd.DataFrame(data=predictii_4)\n",
    "\n",
    "predictii_5 = {'PassengerId': test_data.PassengerId, 'Survived': predictions_y_knn}\n",
    "submission_5 = pd.DataFrame(data=predictii_5)"
   ]
  },
  {
   "cell_type": "code",
   "execution_count": 69,
   "metadata": {},
   "outputs": [],
   "source": [
    "submission.to_csv('submission_rf_noembarked.csv', index =False)\n",
    "submission_2.to_csv('submission_vc_hard_noembarked.csv',index=False)\n",
    "submission_3.to_csv('submission_vc_soft_noembarked.csv', index=False)\n",
    "submission_4.to_csv('submission_svc_noembarked.csv', index=False)\n",
    "submission_5.to_csv('submission_knn_noembarked.csv', index=False)"
   ]
  }
 ],
 "metadata": {
  "interpreter": {
   "hash": "9597a6884cde747c7a1562feea9f044d3a30a94202b025dd49a2c0a530862bc2"
  },
  "kernelspec": {
   "display_name": "Python 3.9.6 64-bit ('myenv': conda)",
   "name": "python3"
  },
  "language_info": {
   "codemirror_mode": {
    "name": "ipython",
    "version": 3
   },
   "file_extension": ".py",
   "mimetype": "text/x-python",
   "name": "python",
   "nbconvert_exporter": "python",
   "pygments_lexer": "ipython3",
   "version": "3.12.4"
  },
  "orig_nbformat": 2
 },
 "nbformat": 4,
 "nbformat_minor": 2
}
